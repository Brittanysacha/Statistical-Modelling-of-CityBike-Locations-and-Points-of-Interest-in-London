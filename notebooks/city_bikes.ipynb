{
 "cells": [
  {
   "attachments": {},
   "cell_type": "markdown",
   "metadata": {},
   "source": [
    "# CityBikes - API Request and DataFrame Creation"
   ]
  },
  {
   "attachments": {},
   "cell_type": "markdown",
   "metadata": {},
   "source": [
    "### Send a request to CityBikes for the API data from London, England."
   ]
  },
  {
   "cell_type": "code",
   "execution_count": 2,
   "metadata": {},
   "outputs": [],
   "source": [
    "import requests\n",
    "import json\n",
    "\n",
    "# Define the endpoint URL for the London bike share network\n",
    "endpoint = \"http://api.citybik.es/v2/networks/santander-cycles\"\n",
    "\n",
    "# Send an HTTP GET request to the endpoint URL\n",
    "response = requests.get(endpoint)\n",
    "\n",
    "# Get the JSON content from the response\n",
    "json_content = response.json()\n",
    "\n",
    "# Print out the entire JSON response to see catergory names (Commented out to save space).\n",
    "# print(json.dumps(json_content, indent=4))"
   ]
  },
  {
   "attachments": {},
   "cell_type": "markdown",
   "metadata": {},
   "source": [
    "### Import API info and parse through the response to get the latitude, longitude, and number of bikes from each station in London, England. "
   ]
  },
  {
   "cell_type": "code",
   "execution_count": 3,
   "metadata": {},
   "outputs": [],
   "source": [
    "# Define the endpoint URL for the London Citybikes - Santander Cycles network\n",
    "endpoint = \"http://api.citybik.es/v2/networks/santander-cycles\"\n",
    "\n",
    "# Define the query parameters to include only the latitude and longitude fields\n",
    "params = {\n",
    "    \"fields\": \"location.latitude,location.longitude, stations.free_bikes\"\n",
    "}\n",
    "\n",
    "# Send an HTTP GET request to the endpoint URL with the query parameters\n",
    "response = requests.get(endpoint, params=params)\n",
    "\n",
    "# Get the JSON content from the response\n",
    "json_content = response.json()\n",
    "\n",
    "# Extract the bike station information from the JSON content\n",
    "stations = json_content[\"network\"][\"stations\"]\n",
    "\n",
    "# To print out station information under headers to review (commented out to reduce space)\n",
    "# print(\"Station Name, Latitude, Longitude, Number of Bikes\")\n",
    "# for station in stations:\n",
    "#     name = station[\"name\"]\n",
    "#     latitude = station[\"latitude\"]\n",
    "#     longitude = station[\"longitude\"]\n",
    "#     bikes = station[\"free_bikes\"]\n",
    "#     print(f\"{name}, {latitude}, {longitude}, {bikes}\")"
   ]
  },
  {
   "attachments": {},
   "cell_type": "markdown",
   "metadata": {},
   "source": [
    "#### Convert parsed results into a DataFrame. "
   ]
  },
  {
   "cell_type": "code",
   "execution_count": 4,
   "metadata": {},
   "outputs": [
    {
     "data": {
      "text/html": [
       "<div>\n",
       "<style scoped>\n",
       "    .dataframe tbody tr th:only-of-type {\n",
       "        vertical-align: middle;\n",
       "    }\n",
       "\n",
       "    .dataframe tbody tr th {\n",
       "        vertical-align: top;\n",
       "    }\n",
       "\n",
       "    .dataframe thead th {\n",
       "        text-align: right;\n",
       "    }\n",
       "</style>\n",
       "<table border=\"1\" class=\"dataframe\">\n",
       "  <thead>\n",
       "    <tr style=\"text-align: right;\">\n",
       "      <th></th>\n",
       "      <th>name</th>\n",
       "      <th>latitude</th>\n",
       "      <th>longitude</th>\n",
       "      <th>free_bikes</th>\n",
       "    </tr>\n",
       "  </thead>\n",
       "  <tbody>\n",
       "    <tr>\n",
       "      <th>0</th>\n",
       "      <td>001023 - River Street , Clerkenwell</td>\n",
       "      <td>51.529163</td>\n",
       "      <td>-0.109971</td>\n",
       "      <td>2</td>\n",
       "    </tr>\n",
       "    <tr>\n",
       "      <th>1</th>\n",
       "      <td>001018 - Phillimore Gardens, Kensington</td>\n",
       "      <td>51.499607</td>\n",
       "      <td>-0.197574</td>\n",
       "      <td>19</td>\n",
       "    </tr>\n",
       "    <tr>\n",
       "      <th>2</th>\n",
       "      <td>001012 - Christopher Street, Liverpool Street</td>\n",
       "      <td>51.521284</td>\n",
       "      <td>-0.084606</td>\n",
       "      <td>21</td>\n",
       "    </tr>\n",
       "    <tr>\n",
       "      <th>3</th>\n",
       "      <td>001024 - Park Street, Bankside</td>\n",
       "      <td>51.505974</td>\n",
       "      <td>-0.092754</td>\n",
       "      <td>18</td>\n",
       "    </tr>\n",
       "    <tr>\n",
       "      <th>4</th>\n",
       "      <td>001022 - Brunswick Square, Bloomsbury</td>\n",
       "      <td>51.523951</td>\n",
       "      <td>-0.122502</td>\n",
       "      <td>24</td>\n",
       "    </tr>\n",
       "  </tbody>\n",
       "</table>\n",
       "</div>"
      ],
      "text/plain": [
       "                                            name   latitude  longitude   \n",
       "0            001023 - River Street , Clerkenwell  51.529163  -0.109971  \\\n",
       "1        001018 - Phillimore Gardens, Kensington  51.499607  -0.197574   \n",
       "2  001012 - Christopher Street, Liverpool Street  51.521284  -0.084606   \n",
       "3                 001024 - Park Street, Bankside  51.505974  -0.092754   \n",
       "4          001022 - Brunswick Square, Bloomsbury  51.523951  -0.122502   \n",
       "\n",
       "   free_bikes  \n",
       "0           2  \n",
       "1          19  \n",
       "2          21  \n",
       "3          18  \n",
       "4          24  "
      ]
     },
     "execution_count": 4,
     "metadata": {},
     "output_type": "execute_result"
    }
   ],
   "source": [
    "import pandas as pd\n",
    "london_bikes_df = pd.DataFrame(stations, columns=['name', 'latitude', 'longitude', 'free_bikes'])\n",
    "london_bikes_df.head(5)"
   ]
  },
  {
   "cell_type": "code",
   "execution_count": 5,
   "metadata": {},
   "outputs": [],
   "source": [
    "#  # export current DataFrame to Csv file to be able to review data further and feed into YELP/FOURSQUARE API.\n",
    "london_bikes_df.to_csv('London_CityBikes_Data.csv', index=False)"
   ]
  },
  {
   "cell_type": "markdown",
   "metadata": {},
   "source": []
  }
 ],
 "metadata": {
  "kernelspec": {
   "display_name": "Python 3",
   "language": "python",
   "name": "python3"
  },
  "language_info": {
   "codemirror_mode": {
    "name": "ipython",
    "version": 3
   },
   "file_extension": ".py",
   "mimetype": "text/x-python",
   "name": "python",
   "nbconvert_exporter": "python",
   "pygments_lexer": "ipython3",
   "version": "3.11.1"
  }
 },
 "nbformat": 4,
 "nbformat_minor": 4
}
