{
 "cells": [
  {
   "attachments": {},
   "cell_type": "markdown",
   "metadata": {},
   "source": [
    "# CityBikes - API Request and DataFrame Creation"
   ]
  },
  {
   "attachments": {},
   "cell_type": "markdown",
   "metadata": {},
   "source": [
    "#### Import Libraries"
   ]
  },
  {
   "cell_type": "code",
   "execution_count": null,
   "metadata": {},
   "outputs": [],
   "source": [
    "import requests\n",
    "import json\n",
    "import pandas as pd"
   ]
  },
  {
   "attachments": {},
   "cell_type": "markdown",
   "metadata": {},
   "source": [
    "### Send a request to CityBikes for the API data from London, England."
   ]
  },
  {
   "cell_type": "code",
   "execution_count": 1,
   "metadata": {},
   "outputs": [],
   "source": [
    "# Define the endpoint URL for the London bike share network\n",
    "endpoint = \"http://api.citybik.es/v2/networks/santander-cycles\"\n",
    "\n",
    "# Send an HTTP GET request to the endpoint URL\n",
    "response = requests.get(endpoint)\n",
    "\n",
    "# Get the JSON content from the response\n",
    "json_content = response.json()\n",
    "\n",
    "# Print out the entire JSON response to see catergory names (Commented out to save space).\n",
    "# print(json.dumps(json_content, indent=4))"
   ]
  },
  {
   "attachments": {},
   "cell_type": "markdown",
   "metadata": {},
   "source": [
    "### Import API info and parse through the response to get the latitude, longitude, and number of bikes from each station in London, England. "
   ]
  },
  {
   "cell_type": "code",
   "execution_count": 2,
   "metadata": {},
   "outputs": [],
   "source": [
    "# Define the endpoint URL for the London Citybikes - Santander Cycles network\n",
    "endpoint = \"http://api.citybik.es/v2/networks/santander-cycles\"\n",
    "\n",
    "# Define the query parameters to include only the latitude and longitude fields\n",
    "params = {\n",
    "    \"fields\": \"location.latitude,location.longitude, stations.free_bikes\"\n",
    "}\n",
    "\n",
    "# Send an HTTP GET request to the endpoint URL with the query parameters\n",
    "response = requests.get(endpoint, params=params)\n",
    "\n",
    "# Get the JSON content from the response\n",
    "json_content = response.json()\n",
    "\n",
    "# Extract the bike station information from the JSON content\n",
    "stations = json_content[\"network\"][\"stations\"]\n",
    "\n",
    "# To print out station information under headers to review (commented out to reduce space)\n",
    "# print(\"Station Name, Latitude, Longitude, Number of Bikes\")\n",
    "# for station in stations:\n",
    "#     name = station[\"name\"]\n",
    "#     latitude = station[\"latitude\"]\n",
    "#     longitude = station[\"longitude\"]\n",
    "#     bikes = station[\"free_bikes\"]\n",
    "#     print(f\"{name}, {latitude}, {longitude}, {bikes}\")"
   ]
  },
  {
   "attachments": {},
   "cell_type": "markdown",
   "metadata": {},
   "source": [
    "#### Convert parsed results into a DataFrame. "
   ]
  },
  {
   "cell_type": "code",
   "execution_count": 6,
   "metadata": {},
   "outputs": [
    {
     "data": {
      "text/plain": [
       "794"
      ]
     },
     "execution_count": 6,
     "metadata": {},
     "output_type": "execute_result"
    }
   ],
   "source": [
    "london_bikes_df = pd.DataFrame(stations, columns=['name', 'latitude', 'longitude', 'free_bikes'])"
   ]
  },
  {
   "cell_type": "code",
   "execution_count": 4,
   "metadata": {},
   "outputs": [],
   "source": [
    "# export current DataFrame to Csv file to be able to review data further and feed into YELP/FOURSQUARE API.\n",
    "london_bikes_df.to_csv('London_CityBikes_Data.csv', index=False)"
   ]
  }
 ],
 "metadata": {
  "kernelspec": {
   "display_name": "Python 3",
   "language": "python",
   "name": "python3"
  },
  "language_info": {
   "codemirror_mode": {
    "name": "ipython",
    "version": 3
   },
   "file_extension": ".py",
   "mimetype": "text/x-python",
   "name": "python",
   "nbconvert_exporter": "python",
   "pygments_lexer": "ipython3",
   "version": "3.11.1"
  }
 },
 "nbformat": 4,
 "nbformat_minor": 4
}
