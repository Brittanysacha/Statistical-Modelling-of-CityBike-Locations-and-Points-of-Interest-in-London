{
 "cells": [
  {
   "cell_type": "code",
   "execution_count": 1,
   "metadata": {},
   "outputs": [],
   "source": [
    "import requests\n",
    "import json\n",
    "import os\n",
    "import foursquare"
   ]
  },
  {
   "cell_type": "markdown",
   "metadata": {},
   "source": [
    "# Foursquare"
   ]
  },
  {
   "attachments": {},
   "cell_type": "markdown",
   "metadata": {},
   "source": [
    "### Send a request to Foursquare with a small radius (1000m) for all the bike stations in your city of choice. "
   ]
  },
  {
   "attachments": {},
   "cell_type": "markdown",
   "metadata": {},
   "source": [
    "##### Set code to review full API"
   ]
  },
  {
   "cell_type": "code",
   "execution_count": 2,
   "metadata": {},
   "outputs": [],
   "source": [
    "# Setup Foursquare API credentials \n",
    "client = foursquare.Foursquare()\n",
    "client_id= os.environ.get('FOURSQUARE_CLIENT_ID')\n",
    "client_secret= os.environ.get('FOURSQUARE_CLIENT_SECRET')\n",
    "redirect_uri='https://github.com/Brittanysacha/Statistical-Modelling-with-Python.git'\n",
    "    \n",
    "client = foursquare.Foursquare(client_id=client_id, client_secret=client_secret, redirect_uri=redirect_uri)"
   ]
  },
  {
   "cell_type": "code",
   "execution_count": 3,
   "metadata": {},
   "outputs": [
    {
     "data": {
      "text/plain": [
       "'QFACRF54VB0PIOCV1JAMA4CN20KE5VUDPN0ML44PFO2AB1K2'"
      ]
     },
     "execution_count": 3,
     "metadata": {},
     "output_type": "execute_result"
    }
   ],
   "source": [
    "client_id"
   ]
  },
  {
   "cell_type": "code",
   "execution_count": 8,
   "metadata": {},
   "outputs": [],
   "source": [
    "# Define the endpoint URL for the Foursqare request\n",
    "endpoint = \"https://api.foursquare.com/v3/places/search\"\n",
    "\n",
    "# Define the query parameters to include only the latitude and longitude fields\n",
    "def foursquare_query(latitude, longitude):\n",
    "    # params = {\n",
    "    #     'll': f'{latitude},{longitude}', 'radius':'1000'\n",
    "    #     }\n",
    "    params = {}\n",
    "    #Headers specific to FourSquare - used to specify wanted metadata - not typically found under all APIs. Found under https://location.foursquare.com/developer/reference/authentication\n",
    "    headers = {\n",
    "        \"Accept\": \"application/json\",\n",
    "        \"Authorization\": 'fsq3NAfjmuFpPM9YR+G62iucin1Q4iGjGvPYnsAWQJmVjqU='\n",
    "        }\n",
    "\n",
    "    # Send an HTTP GET request to the endpoint URL with the query parameters\n",
    "    response = requests.get(endpoint, params=params, headers=headers)\n",
    "\n",
    "    # Get the JSON content from the response\n",
    "    json_content = response.json()\n",
    "\n",
    "    # Print out the entire JSON response to see catergory names\n",
    "    return json_content\n",
    "\n"
   ]
  },
  {
   "cell_type": "code",
   "execution_count": 9,
   "metadata": {},
   "outputs": [
    {
     "data": {
      "text/plain": [
       "{'results': [{'fsq_id': '4c7928133badb1f7dbf34d54',\n",
       "   'categories': [{'id': 13068,\n",
       "     'name': 'American Restaurant',\n",
       "     'icon': {'prefix': 'https://ss3.4sqi.net/img/categories_v2/food/default_',\n",
       "      'suffix': '.png'}}],\n",
       "   'chains': [],\n",
       "   'distance': 3330,\n",
       "   'geocodes': {'main': {'latitude': 43.262301, 'longitude': -79.895368},\n",
       "    'roof': {'latitude': 43.262301, 'longitude': -79.895368}},\n",
       "   'link': '/v3/places/4c7928133badb1f7dbf34d54',\n",
       "   'location': {'address': '1480 6 Hwy N',\n",
       "    'country': 'CA',\n",
       "    'cross_street': 'Carlisle Rd',\n",
       "    'formatted_address': '1480 6 Hwy N (Carlisle Rd), Hamilton ON L8N 2Z7',\n",
       "    'locality': 'Hamilton',\n",
       "    'postcode': 'L8N 2Z7',\n",
       "    'region': 'ON'},\n",
       "   'name': 'Breezy Corners',\n",
       "   'related_places': {},\n",
       "   'timezone': 'America/Toronto'},\n",
       "  {'fsq_id': '4c3212cf7cc0c9b6e1acef9a',\n",
       "   'categories': [{'id': 16008,\n",
       "     'name': 'Campground',\n",
       "     'icon': {'prefix': 'https://ss3.4sqi.net/img/categories_v2/parks_outdoors/campground_',\n",
       "      'suffix': '.png'}}],\n",
       "   'chains': [],\n",
       "   'distance': 9183,\n",
       "   'geocodes': {'main': {'latitude': 43.412315, 'longitude': -80.130565},\n",
       "    'roof': {'latitude': 43.412315, 'longitude': -80.130565}},\n",
       "   'link': '/v3/places/4c3212cf7cc0c9b6e1acef9a',\n",
       "   'location': {'address': '11 Concession',\n",
       "    'country': 'CA',\n",
       "    'cross_street': 'Hwy 6 north',\n",
       "    'formatted_address': '11 Concession (Hwy 6 north), Puslinch ON',\n",
       "    'locality': 'Puslinch',\n",
       "    'region': 'ON'},\n",
       "   'name': 'Emerald Lake',\n",
       "   'related_places': {},\n",
       "   'timezone': 'America/Toronto'},\n",
       "  {'fsq_id': '4c2257537e85c928fddebb21',\n",
       "   'categories': [{'id': 18018,\n",
       "     'name': 'Golf Course',\n",
       "     'icon': {'prefix': 'https://ss3.4sqi.net/img/categories_v2/parks_outdoors/golfcourse_',\n",
       "      'suffix': '.png'}}],\n",
       "   'chains': [],\n",
       "   'distance': 9693,\n",
       "   'geocodes': {'main': {'latitude': 43.448355, 'longitude': -79.912242},\n",
       "    'roof': {'latitude': 43.448355, 'longitude': -79.912242}},\n",
       "   'link': '/v3/places/4c2257537e85c928fddebb21',\n",
       "   'location': {'address': '6621 Guelph Line',\n",
       "    'country': 'CA',\n",
       "    'cross_street': '',\n",
       "    'formatted_address': '6621 Guelph Line, Burlington ON L7P 0A6',\n",
       "    'locality': 'Burlington',\n",
       "    'postcode': 'L7P 0A6',\n",
       "    'region': 'ON'},\n",
       "   'name': 'Crosswinds Golf & Country',\n",
       "   'related_places': {},\n",
       "   'timezone': 'America/Toronto'},\n",
       "  {'fsq_id': '4ae4adeaf964a520099d21e3',\n",
       "   'categories': [{'id': 11002,\n",
       "     'name': 'Agriculture and Forestry Service',\n",
       "     'icon': {'prefix': 'https://ss3.4sqi.net/img/categories_v2/building/default_',\n",
       "      'suffix': '.png'}},\n",
       "    {'id': 16014,\n",
       "     'name': 'Farm',\n",
       "     'icon': {'prefix': 'https://ss3.4sqi.net/img/categories_v2/parks_outdoors/farm_',\n",
       "      'suffix': '.png'}}],\n",
       "   'chains': [],\n",
       "   'distance': 12346,\n",
       "   'geocodes': {'main': {'latitude': 43.356891, 'longitude': -79.878597}},\n",
       "   'link': '/v3/places/4ae4adeaf964a520099d21e3',\n",
       "   'location': {'address': '573 Parkside Dr',\n",
       "    'country': 'CA',\n",
       "    'formatted_address': '573 Parkside Dr, Waterdown ON L8B 0G7',\n",
       "    'locality': 'Waterdown',\n",
       "    'postcode': 'L8B 0G7',\n",
       "    'region': 'ON'},\n",
       "   'name': 'Frootogo Orchards',\n",
       "   'related_places': {},\n",
       "   'timezone': 'America/Toronto'},\n",
       "  {'fsq_id': '4b65aa09f964a52080f82ae3',\n",
       "   'categories': [{'id': 13002,\n",
       "     'name': 'Bakery',\n",
       "     'icon': {'prefix': 'https://ss3.4sqi.net/img/categories_v2/food/bakery_',\n",
       "      'suffix': '.png'}},\n",
       "    {'id': 13039,\n",
       "     'name': 'Deli',\n",
       "     'icon': {'prefix': 'https://ss3.4sqi.net/img/categories_v2/food/deli_',\n",
       "      'suffix': '.png'}}],\n",
       "   'chains': [],\n",
       "   'distance': 15469,\n",
       "   'geocodes': {'main': {'latitude': 43.502763, 'longitude': -79.879243},\n",
       "    'roof': {'latitude': 43.502763, 'longitude': -79.879243}},\n",
       "   'link': '/v3/places/4b65aa09f964a52080f82ae3',\n",
       "   'location': {'address': '327 Bronte St S',\n",
       "    'country': 'CA',\n",
       "    'cross_street': 'Anne Blvd',\n",
       "    'formatted_address': '327 Bronte St S (Anne Blvd), Milton ON L9T 4A4',\n",
       "    'locality': 'Milton',\n",
       "    'postcode': 'L9T 4A4',\n",
       "    'region': 'ON'},\n",
       "   'name': 'La Rose Italian Bakery',\n",
       "   'related_places': {},\n",
       "   'timezone': 'America/Toronto'},\n",
       "  {'fsq_id': '4b4516acf964a520210426e3',\n",
       "   'categories': [{'id': 13027,\n",
       "     'name': 'Bistro',\n",
       "     'icon': {'prefix': 'https://ss3.4sqi.net/img/categories_v2/food/default_',\n",
       "      'suffix': '.png'}},\n",
       "    {'id': 13236,\n",
       "     'name': 'Italian Restaurant',\n",
       "     'icon': {'prefix': 'https://ss3.4sqi.net/img/categories_v2/food/italian_',\n",
       "      'suffix': '.png'}}],\n",
       "   'chains': [],\n",
       "   'distance': 16170,\n",
       "   'geocodes': {'drop_off': {'latitude': 43.513744, 'longitude': -79.882512},\n",
       "    'main': {'latitude': 43.513626, 'longitude': -79.882394},\n",
       "    'roof': {'latitude': 43.513626, 'longitude': -79.882394}},\n",
       "   'link': '/v3/places/4b4516acf964a520210426e3',\n",
       "   'location': {'address': '248 Main St E',\n",
       "    'country': 'CA',\n",
       "    'cross_street': 'Martin St',\n",
       "    'formatted_address': '248 Main St E (Martin St), Milton ON L9T 1N8',\n",
       "    'locality': 'Milton',\n",
       "    'postcode': 'L9T 1N8',\n",
       "    'region': 'ON'},\n",
       "   'name': 'Pasqualino Cafe & Bistro',\n",
       "   'related_places': {},\n",
       "   'timezone': 'America/Toronto'},\n",
       "  {'fsq_id': '4bc7934a0050b71384f8b83b',\n",
       "   'categories': [{'id': 13199,\n",
       "     'name': 'Indian Restaurant',\n",
       "     'icon': {'prefix': 'https://ss3.4sqi.net/img/categories_v2/food/indian_',\n",
       "      'suffix': '.png'}}],\n",
       "   'chains': [],\n",
       "   'distance': 15622,\n",
       "   'geocodes': {'main': {'latitude': 43.390587, 'longitude': -79.824884},\n",
       "    'roof': {'latitude': 43.390587, 'longitude': -79.824884}},\n",
       "   'link': '/v3/places/4bc7934a0050b71384f8b83b',\n",
       "   'location': {'address': '3450 Dundas St W',\n",
       "    'address_extended': 'B1',\n",
       "    'country': 'CA',\n",
       "    'cross_street': 'Walkers Line',\n",
       "    'formatted_address': '3450 Dundas St W (Walkers Line), Burlington ON L7M 4B8',\n",
       "    'locality': 'Burlington',\n",
       "    'postcode': 'L7M 4B8',\n",
       "    'region': 'ON'},\n",
       "   'name': \"Bombay's Chutney\",\n",
       "   'related_places': {},\n",
       "   'timezone': 'America/Toronto'},\n",
       "  {'fsq_id': '4ba51637f964a5202cdb38e3',\n",
       "   'categories': [{'id': 17065,\n",
       "     'name': \"Farmers' Market\",\n",
       "     'icon': {'prefix': 'https://ss3.4sqi.net/img/categories_v2/shops/food_farmersmarket_',\n",
       "      'suffix': '.png'}},\n",
       "    {'id': 17067,\n",
       "     'name': 'Fruit and Vegetable Store',\n",
       "     'icon': {'prefix': 'https://ss3.4sqi.net/img/categories_v2/shops/food_grocery_',\n",
       "      'suffix': '.png'}},\n",
       "    {'id': 17069,\n",
       "     'name': 'Grocery Store / Supermarket',\n",
       "     'icon': {'prefix': 'https://ss3.4sqi.net/img/categories_v2/shops/food_grocery_',\n",
       "      'suffix': '.png'}}],\n",
       "   'chains': [],\n",
       "   'distance': 14368,\n",
       "   'geocodes': {'main': {'latitude': 43.291857, 'longitude': -80.101331},\n",
       "    'roof': {'latitude': 43.291857, 'longitude': -80.101331}},\n",
       "   'link': '/v3/places/4ba51637f964a5202cdb38e3',\n",
       "   'location': {'address': '621 Old Hwy 8',\n",
       "    'country': 'CA',\n",
       "    'cross_street': '',\n",
       "    'formatted_address': '621 Old Hwy 8, Rockton ON L0R 1T0',\n",
       "    'locality': 'Rockton',\n",
       "    'postcode': 'L0R 1T0',\n",
       "    'region': 'ON'},\n",
       "   'name': 'Rockton Berry Farm',\n",
       "   'related_places': {},\n",
       "   'timezone': 'America/Toronto'},\n",
       "  {'fsq_id': '4d376a3515993704d9d3ae91',\n",
       "   'categories': [{'id': 13034,\n",
       "     'name': 'Café',\n",
       "     'icon': {'prefix': 'https://ss3.4sqi.net/img/categories_v2/food/cafe_',\n",
       "      'suffix': '.png'}},\n",
       "    {'id': 13342,\n",
       "     'name': 'Soup Restaurant',\n",
       "     'icon': {'prefix': 'https://ss3.4sqi.net/img/categories_v2/food/soup_',\n",
       "      'suffix': '.png'}}],\n",
       "   'chains': [],\n",
       "   'distance': 16291,\n",
       "   'geocodes': {'main': {'latitude': 43.266481, 'longitude': -79.955442},\n",
       "    'roof': {'latitude': 43.266481, 'longitude': -79.955442}},\n",
       "   'link': '/v3/places/4d376a3515993704d9d3ae91',\n",
       "   'location': {'address': '41B King St W',\n",
       "    'country': 'CA',\n",
       "    'cross_street': \"Miller's Line\",\n",
       "    'formatted_address': \"41B King St W (Miller's Line), Dundas ON L9H 1T5\",\n",
       "    'locality': 'Dundas',\n",
       "    'postcode': 'L9H 1T5',\n",
       "    'region': 'ON'},\n",
       "   'name': \"Detour Roaster's Cafe\",\n",
       "   'related_places': {},\n",
       "   'timezone': 'America/Toronto'},\n",
       "  {'fsq_id': '4bf6cd6e508c0f4766e53c31',\n",
       "   'categories': [{'id': 17069,\n",
       "     'name': 'Grocery Store / Supermarket',\n",
       "     'icon': {'prefix': 'https://ss3.4sqi.net/img/categories_v2/shops/food_grocery_',\n",
       "      'suffix': '.png'}}],\n",
       "   'chains': [],\n",
       "   'distance': 16298,\n",
       "   'geocodes': {'main': {'latitude': 43.266143, 'longitude': -79.955477},\n",
       "    'roof': {'latitude': 43.266143, 'longitude': -79.955477}},\n",
       "   'link': '/v3/places/4bf6cd6e508c0f4766e53c31',\n",
       "   'location': {'address': '34 King St W',\n",
       "    'country': 'CA',\n",
       "    'cross_street': 'Ogilvie St.',\n",
       "    'formatted_address': '34 King St W (Ogilvie St.), Dundas ON L9H 1T7',\n",
       "    'locality': 'Dundas',\n",
       "    'postcode': 'L9H 1T7',\n",
       "    'region': 'ON'},\n",
       "   'name': \"Picone's Food Mkt Inc\",\n",
       "   'related_places': {},\n",
       "   'timezone': 'America/Toronto'}],\n",
       " 'context': {'geo_bounds': {'circle': {'center': {'latitude': 43.4059,\n",
       "     'longitude': -80.0172},\n",
       "    'radius': 22000}}}}"
      ]
     },
     "execution_count": 9,
     "metadata": {},
     "output_type": "execute_result"
    }
   ],
   "source": [
    "foursquare_query(\"51.52916347\", \"-0.109970527\")"
   ]
  },
  {
   "attachments": {},
   "cell_type": "markdown",
   "metadata": {},
   "source": [
    "### Parse through the response to get the POI (such as restaurants, bars, etc) details you want (ratings, name, location, etc)"
   ]
  },
  {
   "cell_type": "code",
   "execution_count": null,
   "metadata": {},
   "outputs": [],
   "source": []
  },
  {
   "cell_type": "code",
   "execution_count": null,
   "metadata": {},
   "outputs": [],
   "source": [
    "# Define the endpoint URL for the Foursqare request\n",
    "endpoint = \"https://api.foursquare.com/v3/places/search\"\n",
    "\n",
    "# Define the query parameters to include only the latitude and longitude fields\n",
    "params = {\n",
    "    'll': f'{Latitude},{Longitude}', 'query': 'city bikes', 'radius':'1000'\n",
    "    }\n",
    "\n",
    "# Send an HTTP GET request to the endpoint URL with the query parameters\n",
    "response = requests.get(endpoint, params=params)\n",
    "\n",
    "# Get the JSON content from the response\n",
    "json_content = response.json()\n",
    "\n",
    "# Print out the entire JSON response to see catergory names\n",
    "print(json.dumps(json_content, indent=4))"
   ]
  },
  {
   "attachments": {},
   "cell_type": "markdown",
   "metadata": {},
   "source": [
    "### Put your parsed results into a DataFrame"
   ]
  },
  {
   "cell_type": "code",
   "execution_count": null,
   "metadata": {},
   "outputs": [],
   "source": []
  },
  {
   "cell_type": "markdown",
   "metadata": {},
   "source": [
    "# Yelp"
   ]
  },
  {
   "attachments": {},
   "cell_type": "markdown",
   "metadata": {},
   "source": [
    "### Send a request to Yelp with a small radius (1000m) for all the bike stations in your city of choice. "
   ]
  },
  {
   "attachments": {},
   "cell_type": "markdown",
   "metadata": {},
   "source": [
    "##### Set code to review full API"
   ]
  },
  {
   "cell_type": "code",
   "execution_count": null,
   "metadata": {},
   "outputs": [],
   "source": [
    "https://api.yelp.com/v3"
   ]
  },
  {
   "cell_type": "markdown",
   "metadata": {},
   "source": [
    "Parse through the response to get the POI (such as restaurants, bars, etc) details you want (ratings, name, location, etc)"
   ]
  },
  {
   "cell_type": "code",
   "execution_count": null,
   "metadata": {},
   "outputs": [],
   "source": []
  },
  {
   "cell_type": "markdown",
   "metadata": {},
   "source": [
    "Put your parsed results into a DataFrame"
   ]
  },
  {
   "cell_type": "markdown",
   "metadata": {},
   "source": []
  },
  {
   "cell_type": "markdown",
   "metadata": {},
   "source": [
    "# Comparing Results"
   ]
  },
  {
   "cell_type": "markdown",
   "metadata": {},
   "source": [
    "Which API provided you with more complete data? Provide an explanation. "
   ]
  },
  {
   "cell_type": "markdown",
   "metadata": {},
   "source": []
  },
  {
   "cell_type": "markdown",
   "metadata": {},
   "source": [
    "Get the top 10 restaurants according to their rating"
   ]
  },
  {
   "cell_type": "code",
   "execution_count": null,
   "metadata": {},
   "outputs": [],
   "source": []
  }
 ],
 "metadata": {
  "kernelspec": {
   "display_name": "Python 3",
   "language": "python",
   "name": "python3"
  },
  "language_info": {
   "codemirror_mode": {
    "name": "ipython",
    "version": 3
   },
   "file_extension": ".py",
   "mimetype": "text/x-python",
   "name": "python",
   "nbconvert_exporter": "python",
   "pygments_lexer": "ipython3",
   "version": "3.11.1"
  }
 },
 "nbformat": 4,
 "nbformat_minor": 4
}
