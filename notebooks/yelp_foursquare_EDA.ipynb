{
 "cells": [
  {
   "cell_type": "code",
   "execution_count": 1,
   "metadata": {
    "tags": []
   },
   "outputs": [],
   "source": [
    "import requests\n",
    "import json\n",
    "import os\n",
    "import foursquare\n",
    "import pandas as pd\n",
    "from tqdm import tqdm"
   ]
  },
  {
   "cell_type": "markdown",
   "metadata": {},
   "source": [
    "# Foursquare\n",
    "\n",
    "### Send a request to Foursquare with a small radius (1000m) for all the bike stations in your city of choice. "
   ]
  },
  {
   "cell_type": "markdown",
   "metadata": {},
   "source": [
    "#### Step 1: Set code to review full API"
   ]
  },
  {
   "cell_type": "code",
   "execution_count": 2,
   "metadata": {
    "tags": []
   },
   "outputs": [],
   "source": [
    "# Setup Foursquare API credentials \n",
    "api_key = os.environ.get('FOURSQUARE_API_KEY')\n",
    "\n",
    "# Define the endpoint URL for the Foursqare request\n",
    "endpoint = \"https://api.foursquare.com/v3/places/search\"\n",
    "\n",
    "# Define the query parameters to include only the latitude and longitude fields\n",
    "def foursquare_query(latitude, longitude):\n",
    "    params = {\n",
    "        'll': f'{latitude},{longitude}', 'radius':'1000'\n",
    "        }\n",
    "    #Headers specific to FourSquare - used to specify wanted metadata - not typically found under all APIs. Found under https://location.foursquare.com/developer/reference/authentication\n",
    "    headers = {\n",
    "        \"Accept\": \"application/json\",\n",
    "        \"Authorization\": api_key\n",
    "        }\n",
    "\n",
    "    # Send an HTTP GET request to the endpoint URL with the query parameters\n",
    "    response = requests.get(endpoint, params=params, headers=headers)\n",
    "\n",
    "    # Get the JSON content from the response\n",
    "    json_content = response.json()\n",
    "\n",
    "    # Print out the entire JSON response to see catergory names\n",
    "    return json_content\n",
    "\n"
   ]
  },
  {
   "cell_type": "code",
   "execution_count": 3,
   "metadata": {},
   "outputs": [],
   "source": [
    "#### Step 2: Retrieve Foursquare results"
   ]
  },
  {
   "cell_type": "code",
   "execution_count": 4,
   "metadata": {
    "tags": []
   },
   "outputs": [],
   "source": [
    "#Retrieve the Foursquare query results for a given latitude and longitude\n",
    "def bike_radius(latitude, longitude):\n",
    "    json_content = foursquare_query(latitude, longitude)\n",
    "    poi = json_content['results']\n",
    "    return json_content\n",
    "\n",
    "#extract the relevant information from the Foursquare query result and store it in a dictionary that is returned as a list.\n",
    "def bike_radius_info(latitude, longitude, location_name):\n",
    "    json_content = foursquare_query(latitude, longitude)\n",
    "    poi_list = []\n",
    "    for poi in json_content['results']:\n",
    "        poi_dict = {}\n",
    "        poi_dict['fsq_id'] = poi['fsq_id']\n",
    "        poi_dict['location_name'] = location_name\n",
    "        poi_dict['poi_type'] = [category['name'] for category in poi['categories']]\n",
    "        poi_list.append(poi_dict)\n",
    "    return poi_list"
   ]
  },
  {
   "cell_type": "code",
   "execution_count": 7,
   "metadata": {
    "collapsed": true,
    "jupyter": {
     "outputs_hidden": true
    },
    "tags": []
   },
   "outputs": [
    {
     "name": "stderr",
     "output_type": "stream",
     "text": [
      "100%|██████████| 794/794 [09:47<00:00,  1.35it/s]\n"
     ]
    }
   ],
   "source": [
    "# read the file containing the locations\n",
    "bike_df = pd.read_csv('/Users/brittanyharding/LHL-Projects/Statistical-Modelling-with-Python/notebooks/London_CityBikes_Data.csv')\n",
    "\n",
    "# extract the name, latitude, and longitude columns from the City Bike Data\n",
    "names = bike_df['name']\n",
    "latitudes = bike_df['latitude']\n",
    "longitudes = bike_df['longitude']\n",
    "\n",
    "\n",
    "# create an empty list to store the dictionaries\n",
    "data_list = []\n",
    "\n",
    "# loop through each location and call the bike_radius_info function\n",
    "for i in tqdm(range(len(latitudes))):\n",
    "    fsq_ids = bike_radius_info(latitudes[i], longitudes[i], names[i])\n",
    "    for fsq_id in fsq_ids:\n",
    "        print(fsq_id['fsq_id'], fsq_id['location_name'], fsq_id['poi_type'])\n",
    "\n",
    "# - LOSING LOCATION NAME AND VARIABLE WHEN RUNNING\n",
    "# # read the file containing the locations\n",
    "# bike_df = pd.read_csv('/Users/brittanyharding/LHL-Projects/Statistical-Modelling-with-Python/notebooks/London_CityBikes_Data.csv')\n",
    "\n",
    "# # extract the name, latitude, and longitude columns from the City Bike Data\n",
    "# names = bike_df['name']\n",
    "# latitudes = bike_df['latitude']\n",
    "# longitudes = bike_df['longitude']\n",
    "\n",
    "\n",
    "# # create an empty list to store the dictionaries\n",
    "# data_list = []\n",
    "\n",
    "# # loop through each location and call the bike_radius_info function\n",
    "# for i in tqdm(range(len(latitudes))):\n",
    "#     fsq_ids = bike_radius_info(latitudes[i], longitudes[i], names[i])\n",
    "#     for fsq_id in fsq_ids:\n",
    "#         data_list.append({'fsq_id': fsq_id['fsq_id'], 'location_name': fsq_id['location_name'], 'poi_type': fsq_id['poi_type']})\n",
    "\n",
    "\n",
    "\n",
    "# # assign the list to a variable\n",
    "# result = data_list\n",
    "\n"
   ]
  },
  {
   "cell_type": "code",
   "execution_count": 12,
   "metadata": {},
   "outputs": [
    {
     "name": "stdout",
     "output_type": "stream",
     "text": [
      "[{'fsq_id': '4ac518dcf964a5204aa920e3', 'location_name': '003493 - South Audley Street, Mayfair', 'poi_type': ['Chinese Restaurant']}, {'fsq_id': '4be2c8711dd22d7fb8c694bd', 'location_name': '003493 - South Audley Street, Mayfair', 'poi_type': ['Night Club', 'Restaurant']}, {'fsq_id': '4bed2b6a91380f47617c9f18', 'location_name': '003493 - South Audley Street, Mayfair', 'poi_type': ['Tobacco Store']}, {'fsq_id': '5980dbf30ff4f9479f731d60', 'location_name': '003493 - South Audley Street, Mayfair', 'poi_type': ['French Restaurant']}, {'fsq_id': '5ce7fcd100b068002d2aa51f', 'location_name': '003493 - South Audley Street, Mayfair', 'poi_type': ['Pastry Shop', 'Restaurant']}, {'fsq_id': '4e9b11e94690c21335507a89', 'location_name': '003493 - South Audley Street, Mayfair', 'poi_type': ['Spa']}, {'fsq_id': '4e8d4f95e5e89c46f5bf0299', 'location_name': '003493 - South Audley Street, Mayfair', 'poi_type': ['Steakhouse']}, {'fsq_id': '4ac518e3f964a520c6aa20e3', 'location_name': '003493 - South Audley Street, Mayfair', 'poi_type': ['Lounge', 'Lebanese Restaurant', 'Moroccan Restaurant']}, {'fsq_id': '50896c8be4b0f94297081043', 'location_name': '003493 - South Audley Street, Mayfair', 'poi_type': ['Coffee Shop']}, {'fsq_id': '4b7a924ff964a520ad312fe3', 'location_name': '003493 - South Audley Street, Mayfair', 'poi_type': ['Coffee Shop']}]\n"
     ]
    }
   ],
   "source": [
    "# loop through each location and call the bike_radius_info function\n",
    "# for i in tqdm(range(len(latitudes))):\n",
    "#     fsq_ids = bike_radius_info(latitudes[i], longitudes[i], names[i])\n",
    "print(fsq_ids)"
   ]
  },
  {
   "cell_type": "markdown",
   "metadata": {},
   "source": [
    "### Put your parsed results into a DataFrame"
   ]
  },
  {
   "cell_type": "code",
   "execution_count": 9,
   "metadata": {},
   "outputs": [],
   "source": [
    "POI_points_by_CityBikes = pd.DataFrame(result, columns=['fsq_id', 'Location', 'POI Type'])"
   ]
  },
  {
   "cell_type": "code",
   "execution_count": 10,
   "metadata": {},
   "outputs": [
    {
     "data": {
      "text/html": [
       "<div>\n",
       "<style scoped>\n",
       "    .dataframe tbody tr th:only-of-type {\n",
       "        vertical-align: middle;\n",
       "    }\n",
       "\n",
       "    .dataframe tbody tr th {\n",
       "        vertical-align: top;\n",
       "    }\n",
       "\n",
       "    .dataframe thead th {\n",
       "        text-align: right;\n",
       "    }\n",
       "</style>\n",
       "<table border=\"1\" class=\"dataframe\">\n",
       "  <thead>\n",
       "    <tr style=\"text-align: right;\">\n",
       "      <th></th>\n",
       "      <th>fsq_id</th>\n",
       "      <th>Location</th>\n",
       "      <th>POI Type</th>\n",
       "    </tr>\n",
       "  </thead>\n",
       "  <tbody>\n",
       "    <tr>\n",
       "      <th>0</th>\n",
       "      <td>4bd6e9305631c9b6fa8ca630</td>\n",
       "      <td>NaN</td>\n",
       "      <td>NaN</td>\n",
       "    </tr>\n",
       "    <tr>\n",
       "      <th>1</th>\n",
       "      <td>4ac518cdf964a520cca520e3</td>\n",
       "      <td>NaN</td>\n",
       "      <td>NaN</td>\n",
       "    </tr>\n",
       "    <tr>\n",
       "      <th>2</th>\n",
       "      <td>4cb5ee61f6616dcbfe42db08</td>\n",
       "      <td>NaN</td>\n",
       "      <td>NaN</td>\n",
       "    </tr>\n",
       "    <tr>\n",
       "      <th>3</th>\n",
       "      <td>5555d73f498eba1d92b0bd0a</td>\n",
       "      <td>NaN</td>\n",
       "      <td>NaN</td>\n",
       "    </tr>\n",
       "    <tr>\n",
       "      <th>4</th>\n",
       "      <td>5777b7f6498ec5cc16dce198</td>\n",
       "      <td>NaN</td>\n",
       "      <td>NaN</td>\n",
       "    </tr>\n",
       "    <tr>\n",
       "      <th>...</th>\n",
       "      <td>...</td>\n",
       "      <td>...</td>\n",
       "      <td>...</td>\n",
       "    </tr>\n",
       "    <tr>\n",
       "      <th>7935</th>\n",
       "      <td>4e9b11e94690c21335507a89</td>\n",
       "      <td>NaN</td>\n",
       "      <td>NaN</td>\n",
       "    </tr>\n",
       "    <tr>\n",
       "      <th>7936</th>\n",
       "      <td>4e8d4f95e5e89c46f5bf0299</td>\n",
       "      <td>NaN</td>\n",
       "      <td>NaN</td>\n",
       "    </tr>\n",
       "    <tr>\n",
       "      <th>7937</th>\n",
       "      <td>4ac518e3f964a520c6aa20e3</td>\n",
       "      <td>NaN</td>\n",
       "      <td>NaN</td>\n",
       "    </tr>\n",
       "    <tr>\n",
       "      <th>7938</th>\n",
       "      <td>50896c8be4b0f94297081043</td>\n",
       "      <td>NaN</td>\n",
       "      <td>NaN</td>\n",
       "    </tr>\n",
       "    <tr>\n",
       "      <th>7939</th>\n",
       "      <td>4b7a924ff964a520ad312fe3</td>\n",
       "      <td>NaN</td>\n",
       "      <td>NaN</td>\n",
       "    </tr>\n",
       "  </tbody>\n",
       "</table>\n",
       "<p>7940 rows × 3 columns</p>\n",
       "</div>"
      ],
      "text/plain": [
       "                        fsq_id  Location  POI Type\n",
       "0     4bd6e9305631c9b6fa8ca630       NaN       NaN\n",
       "1     4ac518cdf964a520cca520e3       NaN       NaN\n",
       "2     4cb5ee61f6616dcbfe42db08       NaN       NaN\n",
       "3     5555d73f498eba1d92b0bd0a       NaN       NaN\n",
       "4     5777b7f6498ec5cc16dce198       NaN       NaN\n",
       "...                        ...       ...       ...\n",
       "7935  4e9b11e94690c21335507a89       NaN       NaN\n",
       "7936  4e8d4f95e5e89c46f5bf0299       NaN       NaN\n",
       "7937  4ac518e3f964a520c6aa20e3       NaN       NaN\n",
       "7938  50896c8be4b0f94297081043       NaN       NaN\n",
       "7939  4b7a924ff964a520ad312fe3       NaN       NaN\n",
       "\n",
       "[7940 rows x 3 columns]"
      ]
     },
     "execution_count": 10,
     "metadata": {},
     "output_type": "execute_result"
    }
   ],
   "source": [
    "POI_points_by_CityBikes"
   ]
  },
  {
   "cell_type": "markdown",
   "metadata": {},
   "source": [
    "# Yelp"
   ]
  },
  {
   "cell_type": "markdown",
   "metadata": {},
   "source": [
    "### Send a request to Yelp with a small radius (1000m) for all the bike stations in your city of choice. "
   ]
  },
  {
   "cell_type": "markdown",
   "metadata": {},
   "source": [
    "##### Set code to review full API"
   ]
  },
  {
   "cell_type": "code",
   "execution_count": null,
   "metadata": {},
   "outputs": [],
   "source": [
    "https://api.yelp.com/v3"
   ]
  },
  {
   "cell_type": "markdown",
   "metadata": {},
   "source": [
    "Parse through the response to get the POI (such as restaurants, bars, etc) details you want (ratings, name, location, etc)"
   ]
  },
  {
   "cell_type": "code",
   "execution_count": null,
   "metadata": {},
   "outputs": [],
   "source": []
  },
  {
   "cell_type": "markdown",
   "metadata": {},
   "source": [
    "Put your parsed results into a DataFrame"
   ]
  },
  {
   "cell_type": "markdown",
   "metadata": {},
   "source": []
  },
  {
   "cell_type": "markdown",
   "metadata": {},
   "source": [
    "# Comparing Results"
   ]
  },
  {
   "cell_type": "markdown",
   "metadata": {},
   "source": [
    "Which API provided you with more complete data? Provide an explanation. "
   ]
  },
  {
   "cell_type": "markdown",
   "metadata": {},
   "source": []
  },
  {
   "cell_type": "markdown",
   "metadata": {},
   "source": [
    "Get the top 10 restaurants according to their rating"
   ]
  },
  {
   "cell_type": "code",
   "execution_count": null,
   "metadata": {},
   "outputs": [],
   "source": []
  }
 ],
 "metadata": {
  "kernelspec": {
   "display_name": "Python 3 (ipykernel)",
   "language": "python",
   "name": "python3"
  },
  "language_info": {
   "codemirror_mode": {
    "name": "ipython",
    "version": 3
   },
   "file_extension": ".py",
   "mimetype": "text/x-python",
   "name": "python",
   "nbconvert_exporter": "python",
   "pygments_lexer": "ipython3",
   "version": "3.11.1"
  }
 },
 "nbformat": 4,
 "nbformat_minor": 4
}
