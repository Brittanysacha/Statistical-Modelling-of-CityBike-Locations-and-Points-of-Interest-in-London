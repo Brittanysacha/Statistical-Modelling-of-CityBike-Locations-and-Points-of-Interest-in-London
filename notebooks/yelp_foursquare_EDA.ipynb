{
 "cells": [
  {
   "cell_type": "code",
   "execution_count": 22,
   "metadata": {
    "tags": []
   },
   "outputs": [],
   "source": [
    "import requests\n",
    "import json\n",
    "import os\n",
    "import foursquare\n",
    "import pandas as pd\n",
    "from tqdm import tqdm"
   ]
  },
  {
   "cell_type": "markdown",
   "metadata": {},
   "source": [
    "# Foursquare\n",
    "\n",
    "### Send a request to Foursquare with a small radius (1000m) for all the bike stations in your city of choice. "
   ]
  },
  {
   "cell_type": "markdown",
   "metadata": {},
   "source": [
    "#### Step 1: Set code to review full API"
   ]
  },
  {
   "cell_type": "code",
   "execution_count": 26,
   "metadata": {
    "tags": []
   },
   "outputs": [],
   "source": [
    "# Setup Foursquare API credentials \n",
    "api_key = os.environ.get('FOURSQUARE_API_KEY')\n",
    "\n",
    "# Define the endpoint URL for the Foursqare request\n",
    "endpoint = \"https://api.foursquare.com/v3/places/search\"\n",
    "\n",
    "# Define the query parameters to include only the latitude and longitude fields\n",
    "def foursquare_query(latitude, longitude):\n",
    "    params = {\n",
    "        'll': f'{latitude},{longitude}', 'radius':'1000', 'query':'restaurants, coffee shops'\n",
    "        }\n",
    "    #Headers specific to FourSquare - used to specify wanted metadata - not typically found under all APIs. Found under https://location.foursquare.com/developer/reference/authentication\n",
    "    headers = {\"Accept\": \"application/json\",\n",
    "        \"Authorization\": api_key\n",
    "        }\n",
    "\n",
    "    # Send an HTTP GET request to the endpoint URL with the query parameters\n",
    "    response = requests.get(endpoint, params=params, headers=headers)\n",
    "\n",
    "    # Get the JSON content from the response\n",
    "    json_content = response.json()\n",
    "\n",
    "    # Print out the entire JSON response to see catergory names\n",
    "    return json_content\n",
    "\n"
   ]
  },
  {
   "attachments": {},
   "cell_type": "markdown",
   "metadata": {},
   "source": [
    "#### Step 2: Retrieve Foursquare results"
   ]
  },
  {
   "cell_type": "code",
   "execution_count": 27,
   "metadata": {
    "tags": []
   },
   "outputs": [],
   "source": [
    "#Retrieve the Foursquare query results for a given latitude and longitude\n",
    "def bike_radius(latitude, longitude):\n",
    "    json_content = foursquare_query(latitude, longitude)\n",
    "    poi = json_content['results']\n",
    "    return json_content\n",
    "\n",
    "#extract the relevant information from the Foursquare query result and store it in a dictionary that is returned as a list.\n",
    "def bike_radius_info(latitude, longitude, location_name):\n",
    "    json_content = foursquare_query(latitude, longitude)\n",
    "    poi_list = []\n",
    "    for poi in json_content['results']:\n",
    "        poi_dict = {}\n",
    "        poi_dict['fsq_id'] = poi['fsq_id']\n",
    "        poi_dict['location_name'] = location_name\n",
    "        poi_dict['poi_type'] = [category['name'] for category in poi['categories']]\n",
    "        poi_list.append(poi_dict)\n",
    "    return poi_list"
   ]
  },
  {
   "attachments": {},
   "cell_type": "markdown",
   "metadata": {},
   "source": [
    "#### Step 3: Parse through data to retrieve point of interest (POI) details (Available from Foursquare - location, type)"
   ]
  },
  {
   "cell_type": "code",
   "execution_count": 30,
   "metadata": {
    "collapsed": true,
    "jupyter": {
     "outputs_hidden": true
    },
    "tags": []
   },
   "outputs": [
    {
     "name": "stderr",
     "output_type": "stream",
     "text": [
      "100%|██████████| 250/250 [01:42<00:00,  2.45it/s]\n"
     ]
    }
   ],
   "source": [
    "# read the file containing the locations\n",
    "bike_df = pd.read_csv('/Users/brittanyharding/LHL-Projects/Statistical-Modelling-with-Python/notebooks/London_CityBikes_Data.csv')\n",
    "\n",
    "rand_df = bike_df.sample(n=250)\n",
    "\n",
    "# extract the name, latitude, and longitude columns from the City Bike Data\n",
    "names = rand_df['name'].unique()\n",
    "latitudes = rand_df['latitude'].unique()\n",
    "longitudes = rand_df['longitude'].unique()\n",
    "\n",
    "\n",
    "# create an empty list to store the dictionaries\n",
    "data_list = []\n",
    "\n",
    "# loop through each location and call the bike_radius_info function\n",
    "for i in tqdm(range(len(latitudes))):\n",
    "    fsq_ids = bike_radius_info(latitudes[i], longitudes[i], names[i])\n",
    "    for fsq_id in fsq_ids:\n",
    "        data_list.append({'fsq_id': fsq_id['fsq_id'], 'location_name': fsq_id['location_name'], 'poi_type': fsq_id['poi_type']})"
   ]
  },
  {
   "cell_type": "code",
   "execution_count": 29,
   "metadata": {},
   "outputs": [
    {
     "data": {
      "text/plain": [
       "[{'fsq_id': '5e3575f4dbf5ba00089df22f',\n",
       "  'location_name': '200091 - Wandsworth Town Station, Wandsworth',\n",
       "  'poi_type': ['Coffee Shop']},\n",
       " {'fsq_id': '515995d5e4b03e8df8ad2e3f',\n",
       "  'location_name': '200091 - Wandsworth Town Station, Wandsworth',\n",
       "  'poi_type': ['Coffee Shop']},\n",
       " {'fsq_id': '544b84f8498e79ed1befff89',\n",
       "  'location_name': '200091 - Wandsworth Town Station, Wandsworth',\n",
       "  'poi_type': ['Café', 'Coffee Shop', 'Restaurant']},\n",
       " {'fsq_id': 'a9c747df6e62465ccbd49cd7',\n",
       "  'location_name': '200091 - Wandsworth Town Station, Wandsworth',\n",
       "  'poi_type': ['Restaurant']},\n",
       " {'fsq_id': '63a0856d6b8c1210f01f4878',\n",
       "  'location_name': '200091 - Wandsworth Town Station, Wandsworth',\n",
       "  'poi_type': ['Coffee Shop']},\n",
       " {'fsq_id': '616992176d31801e4795a0b0',\n",
       "  'location_name': '200091 - Wandsworth Town Station, Wandsworth',\n",
       "  'poi_type': ['Juice Bar']},\n",
       " {'fsq_id': '5cbc64b8e55d8b00383630c5',\n",
       "  'location_name': '200091 - Wandsworth Town Station, Wandsworth',\n",
       "  'poi_type': ['Coffee Shop']},\n",
       " {'fsq_id': '518b559f498e374587d88eca',\n",
       "  'location_name': '200091 - Wandsworth Town Station, Wandsworth',\n",
       "  'poi_type': ['Food Truck']},\n",
       " {'fsq_id': '07cb43f8e1ef4faa70eac99a',\n",
       "  'location_name': '200091 - Wandsworth Town Station, Wandsworth',\n",
       "  'poi_type': ['Café', 'Coffee Shop']},\n",
       " {'fsq_id': 'a70b3771f16a432848241833',\n",
       "  'location_name': '200091 - Wandsworth Town Station, Wandsworth',\n",
       "  'poi_type': ['Coffee Shop', 'Restaurant']}]"
      ]
     },
     "execution_count": 29,
     "metadata": {},
     "output_type": "execute_result"
    }
   ],
   "source": [
    "data_list"
   ]
  },
  {
   "attachments": {},
   "cell_type": "markdown",
   "metadata": {},
   "source": [
    "#### Step 4:  Put your parsed results into a DataFrame"
   ]
  },
  {
   "cell_type": "code",
   "execution_count": 38,
   "metadata": {},
   "outputs": [],
   "source": [
    "POI_CityBikes_DF = pd.DataFrame(data_list)"
   ]
  },
  {
   "cell_type": "markdown",
   "metadata": {},
   "source": [
    "# Yelp"
   ]
  },
  {
   "attachments": {},
   "cell_type": "markdown",
   "metadata": {},
   "source": [
    "### Send a request to Yelp with a small radius (1000m) for all the bike stations in your city of choice. "
   ]
  },
  {
   "cell_type": "markdown",
   "metadata": {},
   "source": [
    "##### Set code to review full API"
   ]
  },
  {
   "cell_type": "code",
   "execution_count": 53,
   "metadata": {},
   "outputs": [],
   "source": [
    "# Setup Yelp API credentials \n",
    "api_key = os.environ.get('YELP_API_KEY')\n",
    "\n",
    "# Define the endpoint URL for the Yelp request\n",
    "endpoint = \"https://api.yelp.com/v3/businesses/search\"\n",
    "\n",
    "# Define the query parameters to include only the latitude and longitude fields\n",
    "def yelp_query(latitude, longitude):\n",
    "    params = {\n",
    "        'latitude': latitude , 'longitude': longitude, 'radius': 1000\n",
    "        }\n",
    "    #Headers specific to Yelp - used to specify wanted metadata - not typically found under all APIs.\n",
    "    headers = {'Authorization': f'Bearer {api_key}'}\n",
    "\n",
    "    # Send an HTTP GET request to the endpoint URL with the query parameters\n",
    "    response = requests.get(endpoint, params=params, headers=headers)\n",
    "\n",
    "    # Get the JSON content from the response\n",
    "    json_content = response.json()\n",
    "\n",
    "    # Print out the entire JSON response to see catergory names\n",
    "    return json_content"
   ]
  },
  {
   "cell_type": "markdown",
   "metadata": {},
   "source": [
    "Parse through the response to get the POI (such as restaurants, bars, etc) details you want (ratings, name, location, etc)"
   ]
  },
  {
   "cell_type": "code",
   "execution_count": 86,
   "metadata": {},
   "outputs": [],
   "source": [
    "#Retrieve the Yelp query results for a given latitude and longitude\n",
    "def bike_radius(latitude, longitude):\n",
    "    json_content = yelp_query(latitude, longitude)\n",
    "    poi = json_content['results']\n",
    "    return json_content\n",
    "\n",
    "#extract the relevant information from the Yelp query result and store it in a dictionary that is returned as a list.\n",
    "def bike_radius_info(latitude, longitude, name):\n",
    "    json_content = yelp_query(latitude, longitude)\n",
    "    poi_list = []\n",
    "    for poi in json_content['businesses']:\n",
    "        poi_dict = {}\n",
    "        poi_dict['id'] = poi['id']\n",
    "        poi_dict['location'] = name\n",
    "        poi_dict['categories'] = poi['categories']\n",
    "        poi_dict['rating'] = poi['rating']\n",
    "        poi_dict['name'] = poi['name']\n",
    "        try:\n",
    "            poi_dict['rating'] = poi['rating']\n",
    "        except:\n",
    "            poi_dict['rating'] = ''\n",
    "        try:\n",
    "            poi_dict['price'] = poi['price']\n",
    "        except:\n",
    "            poi_dict['price'] = ''\n",
    "        poi_list.append(poi_dict)\n",
    "    return poi_list"
   ]
  },
  {
   "cell_type": "code",
   "execution_count": 87,
   "metadata": {},
   "outputs": [
    {
     "name": "stderr",
     "output_type": "stream",
     "text": [
      "100%|██████████| 5/5 [00:02<00:00,  1.70it/s]\n"
     ]
    }
   ],
   "source": [
    "# read the file containing the locations\n",
    "bike_df = pd.read_csv('/Users/brittanyharding/LHL-Projects/Statistical-Modelling-with-Python/notebooks/London_CityBikes_Data.csv')\n",
    "\n",
    "rand_df2 = bike_df.sample(n=5)\n",
    "# extract the name, latitude, and longitude columns from the City Bike Data\n",
    "names = rand_df2['name'].unique()\n",
    "latitudes = rand_df2['latitude'].unique()\n",
    "longitudes = rand_df2['longitude'].unique()\n",
    "\n",
    "\n",
    "# create an empty list to store the dictionaries\n",
    "data_list2 = []\n",
    "\n",
    "# loop through each location and call the bike_radius_info function\n",
    "for i in tqdm(range(len(latitudes))):\n",
    "    id = bike_radius_info(latitudes[i], longitudes[i], names[i])\n",
    "    for id in id:\n",
    "        data_list2.append({'id': id['id'], 'name': id['name'], 'location': id['location'], 'categories': id['categories'], 'rating': id['rating'],'price': id['price']})\n",
    "        "
   ]
  },
  {
   "cell_type": "code",
   "execution_count": 88,
   "metadata": {},
   "outputs": [
    {
     "data": {
      "text/html": [
       "<div>\n",
       "<style scoped>\n",
       "    .dataframe tbody tr th:only-of-type {\n",
       "        vertical-align: middle;\n",
       "    }\n",
       "\n",
       "    .dataframe tbody tr th {\n",
       "        vertical-align: top;\n",
       "    }\n",
       "\n",
       "    .dataframe thead th {\n",
       "        text-align: right;\n",
       "    }\n",
       "</style>\n",
       "<table border=\"1\" class=\"dataframe\">\n",
       "  <thead>\n",
       "    <tr style=\"text-align: right;\">\n",
       "      <th></th>\n",
       "      <th>id</th>\n",
       "      <th>name</th>\n",
       "      <th>location</th>\n",
       "      <th>categories</th>\n",
       "      <th>rating</th>\n",
       "      <th>price</th>\n",
       "    </tr>\n",
       "  </thead>\n",
       "  <tbody>\n",
       "    <tr>\n",
       "      <th>0</th>\n",
       "      <td>CexMDiWtQh7BNpq3nSN30g</td>\n",
       "      <td>Prospect Of Whitby</td>\n",
       "      <td>022166 - Albert Gardens, Stepney</td>\n",
       "      <td>[{'alias': 'pubs', 'title': 'Pubs'}]</td>\n",
       "      <td>4.0</td>\n",
       "      <td>££</td>\n",
       "    </tr>\n",
       "    <tr>\n",
       "      <th>1</th>\n",
       "      <td>nUAkhKSEKG3NZl4vinNMjQ</td>\n",
       "      <td>Il Bordello</td>\n",
       "      <td>022166 - Albert Gardens, Stepney</td>\n",
       "      <td>[{'alias': 'pizza', 'title': 'Pizza'}, {'alias...</td>\n",
       "      <td>4.5</td>\n",
       "      <td>££</td>\n",
       "    </tr>\n",
       "    <tr>\n",
       "      <th>2</th>\n",
       "      <td>xGWqU9FipTH7p-_YKSs9sg</td>\n",
       "      <td>The Narrow by Gordon Ramsay</td>\n",
       "      <td>022166 - Albert Gardens, Stepney</td>\n",
       "      <td>[{'alias': 'british', 'title': 'British'}, {'a...</td>\n",
       "      <td>3.5</td>\n",
       "      <td>££</td>\n",
       "    </tr>\n",
       "    <tr>\n",
       "      <th>3</th>\n",
       "      <td>4VJ5g-TmSUfCVA6Gs7u4lA</td>\n",
       "      <td>Cinnamon Coffee Shop</td>\n",
       "      <td>022166 - Albert Gardens, Stepney</td>\n",
       "      <td>[{'alias': 'cafes', 'title': 'Cafes'}, {'alias...</td>\n",
       "      <td>4.5</td>\n",
       "      <td>£</td>\n",
       "    </tr>\n",
       "    <tr>\n",
       "      <th>4</th>\n",
       "      <td>TKrgGHkG3zZQyHbXLWVGiA</td>\n",
       "      <td>The Grapes</td>\n",
       "      <td>022166 - Albert Gardens, Stepney</td>\n",
       "      <td>[{'alias': 'pubs', 'title': 'Pubs'}]</td>\n",
       "      <td>4.0</td>\n",
       "      <td>££</td>\n",
       "    </tr>\n",
       "    <tr>\n",
       "      <th>...</th>\n",
       "      <td>...</td>\n",
       "      <td>...</td>\n",
       "      <td>...</td>\n",
       "      <td>...</td>\n",
       "      <td>...</td>\n",
       "      <td>...</td>\n",
       "    </tr>\n",
       "    <tr>\n",
       "      <th>95</th>\n",
       "      <td>sYwBQ7mJYhB35nn-_SZstQ</td>\n",
       "      <td>Yauatcha</td>\n",
       "      <td>003424 - Broadcasting House, Marylebone</td>\n",
       "      <td>[{'alias': 'dimsum', 'title': 'Dim Sum'}, {'al...</td>\n",
       "      <td>4.0</td>\n",
       "      <td>£££</td>\n",
       "    </tr>\n",
       "    <tr>\n",
       "      <th>96</th>\n",
       "      <td>a8FtrgeFoHZ3N8KPVK2lGQ</td>\n",
       "      <td>Bob Bob Ricard</td>\n",
       "      <td>003424 - Broadcasting House, Marylebone</td>\n",
       "      <td>[{'alias': 'british', 'title': 'British'}, {'a...</td>\n",
       "      <td>4.0</td>\n",
       "      <td>££££</td>\n",
       "    </tr>\n",
       "    <tr>\n",
       "      <th>97</th>\n",
       "      <td>1pUEGW91riUIux0TZWw_4g</td>\n",
       "      <td>Palm Court</td>\n",
       "      <td>003424 - Broadcasting House, Marylebone</td>\n",
       "      <td>[{'alias': 'tea', 'title': 'Tea Rooms'}]</td>\n",
       "      <td>4.0</td>\n",
       "      <td>£££</td>\n",
       "    </tr>\n",
       "    <tr>\n",
       "      <th>98</th>\n",
       "      <td>IBV7BsXnv2gX68nWUARhjw</td>\n",
       "      <td>Mother Mash</td>\n",
       "      <td>003424 - Broadcasting House, Marylebone</td>\n",
       "      <td>[{'alias': 'british', 'title': 'British'}]</td>\n",
       "      <td>4.0</td>\n",
       "      <td>££</td>\n",
       "    </tr>\n",
       "    <tr>\n",
       "      <th>99</th>\n",
       "      <td>a4FkZ2b7Wn3-AP7q3ptHtQ</td>\n",
       "      <td>Duck &amp; Waffle Local</td>\n",
       "      <td>003424 - Broadcasting House, Marylebone</td>\n",
       "      <td>[{'alias': 'bars', 'title': 'Bars'}, {'alias':...</td>\n",
       "      <td>4.5</td>\n",
       "      <td>££</td>\n",
       "    </tr>\n",
       "  </tbody>\n",
       "</table>\n",
       "<p>100 rows × 6 columns</p>\n",
       "</div>"
      ],
      "text/plain": [
       "                        id                         name   \n",
       "0   CexMDiWtQh7BNpq3nSN30g           Prospect Of Whitby  \\\n",
       "1   nUAkhKSEKG3NZl4vinNMjQ                  Il Bordello   \n",
       "2   xGWqU9FipTH7p-_YKSs9sg  The Narrow by Gordon Ramsay   \n",
       "3   4VJ5g-TmSUfCVA6Gs7u4lA         Cinnamon Coffee Shop   \n",
       "4   TKrgGHkG3zZQyHbXLWVGiA                   The Grapes   \n",
       "..                     ...                          ...   \n",
       "95  sYwBQ7mJYhB35nn-_SZstQ                     Yauatcha   \n",
       "96  a8FtrgeFoHZ3N8KPVK2lGQ               Bob Bob Ricard   \n",
       "97  1pUEGW91riUIux0TZWw_4g                   Palm Court   \n",
       "98  IBV7BsXnv2gX68nWUARhjw                  Mother Mash   \n",
       "99  a4FkZ2b7Wn3-AP7q3ptHtQ          Duck & Waffle Local   \n",
       "\n",
       "                                   location   \n",
       "0          022166 - Albert Gardens, Stepney  \\\n",
       "1          022166 - Albert Gardens, Stepney   \n",
       "2          022166 - Albert Gardens, Stepney   \n",
       "3          022166 - Albert Gardens, Stepney   \n",
       "4          022166 - Albert Gardens, Stepney   \n",
       "..                                      ...   \n",
       "95  003424 - Broadcasting House, Marylebone   \n",
       "96  003424 - Broadcasting House, Marylebone   \n",
       "97  003424 - Broadcasting House, Marylebone   \n",
       "98  003424 - Broadcasting House, Marylebone   \n",
       "99  003424 - Broadcasting House, Marylebone   \n",
       "\n",
       "                                           categories  rating price  \n",
       "0                [{'alias': 'pubs', 'title': 'Pubs'}]     4.0    ££  \n",
       "1   [{'alias': 'pizza', 'title': 'Pizza'}, {'alias...     4.5    ££  \n",
       "2   [{'alias': 'british', 'title': 'British'}, {'a...     3.5    ££  \n",
       "3   [{'alias': 'cafes', 'title': 'Cafes'}, {'alias...     4.5     £  \n",
       "4                [{'alias': 'pubs', 'title': 'Pubs'}]     4.0    ££  \n",
       "..                                                ...     ...   ...  \n",
       "95  [{'alias': 'dimsum', 'title': 'Dim Sum'}, {'al...     4.0   £££  \n",
       "96  [{'alias': 'british', 'title': 'British'}, {'a...     4.0  ££££  \n",
       "97           [{'alias': 'tea', 'title': 'Tea Rooms'}]     4.0   £££  \n",
       "98         [{'alias': 'british', 'title': 'British'}]     4.0    ££  \n",
       "99  [{'alias': 'bars', 'title': 'Bars'}, {'alias':...     4.5    ££  \n",
       "\n",
       "[100 rows x 6 columns]"
      ]
     },
     "execution_count": 88,
     "metadata": {},
     "output_type": "execute_result"
    }
   ],
   "source": [
    "# id = bike_radius_info(latitudes[i], longitudes[i], names[i])\n",
    "\n",
    "df123 = pd.DataFrame(data_list2)\n",
    "\n",
    "df123\n",
    "# # bike_radius('51.529163', '-0.109971')\n",
    "# latitude = 51.529163\n",
    "# longitude = -0.109971\n",
    "\n",
    "\n",
    "# import json\n",
    "\n",
    "# json_content = bike_radius_info(latitude, longitude, location name)\n",
    "# print(json.dumps(json_content, indent=4))"
   ]
  },
  {
   "cell_type": "markdown",
   "metadata": {},
   "source": [
    "Put your parsed results into a DataFrame"
   ]
  },
  {
   "cell_type": "markdown",
   "metadata": {},
   "source": []
  },
  {
   "cell_type": "markdown",
   "metadata": {},
   "source": [
    "# Comparing Results"
   ]
  },
  {
   "cell_type": "markdown",
   "metadata": {},
   "source": [
    "Which API provided you with more complete data? Provide an explanation. "
   ]
  },
  {
   "cell_type": "markdown",
   "metadata": {},
   "source": []
  },
  {
   "cell_type": "markdown",
   "metadata": {},
   "source": [
    "Get the top 10 restaurants according to their rating"
   ]
  },
  {
   "cell_type": "code",
   "execution_count": null,
   "metadata": {},
   "outputs": [],
   "source": []
  }
 ],
 "metadata": {
  "kernelspec": {
   "display_name": "Python 3 (ipykernel)",
   "language": "python",
   "name": "python3"
  },
  "language_info": {
   "codemirror_mode": {
    "name": "ipython",
    "version": 3
   },
   "file_extension": ".py",
   "mimetype": "text/x-python",
   "name": "python",
   "nbconvert_exporter": "python",
   "pygments_lexer": "ipython3",
   "version": "3.11.1"
  }
 },
 "nbformat": 4,
 "nbformat_minor": 4
}
