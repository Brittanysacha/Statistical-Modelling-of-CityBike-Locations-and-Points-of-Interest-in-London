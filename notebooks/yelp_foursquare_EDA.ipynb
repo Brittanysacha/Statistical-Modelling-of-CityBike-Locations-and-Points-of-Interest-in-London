{
 "cells": [
  {
   "attachments": {},
   "cell_type": "markdown",
   "metadata": {},
   "source": [
    "# Statistics Modelling with Python, Project Two\n",
    "### Part 2: Connecting to Foursquare and Yelp APIs"
   ]
  },
  {
   "attachments": {},
   "cell_type": "markdown",
   "metadata": {},
   "source": [
    "#### Import libraries"
   ]
  },
  {
   "cell_type": "code",
   "execution_count": 1,
   "metadata": {
    "tags": []
   },
   "outputs": [],
   "source": [
    "import requests\n",
    "import json\n",
    "import os\n",
    "import foursquare\n",
    "import pandas as pd\n",
    "from tqdm import tqdm\n",
    "import time\n",
    "from time import sleep"
   ]
  },
  {
   "cell_type": "markdown",
   "metadata": {},
   "source": [
    "# Foursquare\n",
    "\n",
    "### Send a request to Foursquare with a small radius (1000m) for all the bike stations in your city of choice. "
   ]
  },
  {
   "attachments": {},
   "cell_type": "markdown",
   "metadata": {},
   "source": [
    "##### Step 1: Foursquare API key set up for restaurants"
   ]
  },
  {
   "cell_type": "code",
   "execution_count": 25,
   "metadata": {
    "tags": []
   },
   "outputs": [],
   "source": [
    "# Setup Foursquare API credentials \n",
    "api_key = os.environ.get('FOURSQUARE_API_KEY')\n",
    "\n",
    "# Define the endpoint URL for the Foursqare request\n",
    "endpoint = \"https://api.foursquare.com/v3/places/search\"\n",
    "\n",
    "# Define the query parameters to include only the latitude and longitude fields\n",
    "def restaurant_foursquare_query(latitude, longitude):\n",
    "    params = {\n",
    "        'll': f'{latitude},{longitude}', 'radius':'1000', 'query':'Restaurant'\n",
    "        }\n",
    "    #Headers specific to FourSquare - used to specify wanted metadata - not typically found under all APIs. Found under https://location.foursquare.com/developer/reference/authentication\n",
    "    headers = {\"Accept\": \"application/json\",\n",
    "        \"Authorization\": api_key\n",
    "        }\n",
    "\n",
    "    # Send an HTTP GET request to the endpoint URL with the query parameters\n",
    "    response = requests.get(endpoint, params=params, headers=headers)\n",
    "\n",
    "    # Get the JSON content from the response\n",
    "    json_content = response.json()\n",
    "\n",
    "    # Print out the entire JSON response to see catergory names\n",
    "    return json_content\n",
    "\n"
   ]
  },
  {
   "attachments": {},
   "cell_type": "markdown",
   "metadata": {},
   "source": [
    "#### Step 2: Define functions to retrieve FourSquare results for restaurants"
   ]
  },
  {
   "cell_type": "code",
   "execution_count": 36,
   "metadata": {
    "tags": []
   },
   "outputs": [],
   "source": [
    "#Retrieve the Foursquare query results for a given latitude and longitude\n",
    "def bike_radius(latitude, longitude):\n",
    "    json_content = restaurant_foursquare_query(latitude, longitude)\n",
    "    poi = json_content['results']\n",
    "    return json_content\n",
    "\n",
    "#extract the relevant information from the Foursquare query result and store it in a dictionary that is returned as a list.\n",
    "def bike_radius_info(latitude, longitude, location_name):\n",
    "    json_content = restaurant_foursquare_query(latitude, longitude)\n",
    "    poi_list = []\n",
    "    for poi in json_content['results']:\n",
    "        poi_dict = {}\n",
    "        poi_dict['fsq_id'] = poi['fsq_id']\n",
    "        poi_dict['location_name'] = location_name\n",
    "        poi_dict['poi_type'] = [category['type'] for category in poi['categories']]\n",
    "        poi_list.append(poi_dict)\n",
    "    return poi_list"
   ]
  },
  {
   "attachments": {},
   "cell_type": "markdown",
   "metadata": {},
   "source": [
    "#### Step 3: Create a loop to parse through the CityBikes data and retrieve point of interest (POI) details on restaurants from Foursquare"
   ]
  },
  {
   "cell_type": "code",
   "execution_count": 1,
   "metadata": {
    "collapsed": true,
    "jupyter": {
     "outputs_hidden": true
    },
    "tags": []
   },
   "outputs": [],
   "source": [
    "# Load CityBike DataFrame\n",
    "bike_df = pd.read_csv('/Users/brittanyharding/LHL-Projects/Statistical-Modelling-with-Python/notebooks/London_CityBikes_Data.csv')\n",
    "\n",
    "rand_df = bike_df.sample(n=250)\n",
    "\n",
    "# extract the name, latitude, and longitude columns from the City Bike Data\n",
    "names = rand_df['name'].unique()\n",
    "latitudes = rand_df['latitude'].unique()\n",
    "longitudes = rand_df['longitude'].unique()\n",
    "\n",
    "\n",
    "# create an empty list to store the dictionaries\n",
    "foursquare_restaurant_data_list = []\n",
    "\n",
    "# loop through each location and call the bike_radius_info function\n",
    "for i in tqdm(range(len(latitudes))):\n",
    "    fsq_ids = bike_radius_info(latitudes[i], longitudes[i], names[i])\n",
    "    for fsq_id in fsq_ids:\n",
    "        foursquare_restaurant_data_list.append({'fsq_id': fsq_id['fsq_id'], 'location_name': fsq_id['location_name'], 'poi_type': fsq_id['poi_type']})\n",
    "    time.sleep(1) # add 1 second delay between each iteration"
   ]
  },
  {
   "attachments": {},
   "cell_type": "markdown",
   "metadata": {},
   "source": [
    "#### Step 4:  Create a DataFrame with Foursquare restaurant results"
   ]
  },
  {
   "cell_type": "code",
   "execution_count": 5,
   "metadata": {},
   "outputs": [],
   "source": [
    "foursquare_restaurants_df = pd.DataFrame(foursquare_restaurant_data_list)"
   ]
  },
  {
   "cell_type": "markdown",
   "metadata": {},
   "source": [
    "#### Step 5: Export DataFrame to CSV"
   ]
  },
  {
   "cell_type": "code",
   "execution_count": null,
   "metadata": {},
   "outputs": [],
   "source": [
    "# export current yelp restaurants_df to Csv file to be able to review data further\n",
    "foursquare_restaurants_df.to_csv('foursquare_restaurants_df.csv', index=False)"
   ]
  },
  {
   "attachments": {},
   "cell_type": "markdown",
   "metadata": {},
   "source": [
    "##### Step 1: Foursquare API key set up for Parks"
   ]
  },
  {
   "cell_type": "code",
   "execution_count": 7,
   "metadata": {},
   "outputs": [],
   "source": [
    "# Setup Foursquare API credentials \n",
    "api_key = os.environ.get('FOURSQUARE_API_KEY')\n",
    "\n",
    "# Define the endpoint URL for the Foursqare request\n",
    "endpoint = \"https://api.foursquare.com/v3/places/search\"\n",
    "\n",
    "# Define the query parameters to include only the latitude and longitude fields\n",
    "def parks_foursquare_query(latitude, longitude):\n",
    "    params = {\n",
    "        'll': f'{latitude},{longitude}', 'radius':'1000', 'query':'Landmarks and Outdoors > Park'\n",
    "        }\n",
    "    #Headers specific to FourSquare - used to specify wanted metadata - not typically found under all APIs. Found under https://location.foursquare.com/developer/reference/authentication\n",
    "    headers = {\"Accept\": \"application/json\",\n",
    "        \"Authorization\": api_key\n",
    "        }\n",
    "\n",
    "    # Send an HTTP GET request to the endpoint URL with the query parameters\n",
    "    response = requests.get(endpoint, params=params, headers=headers)\n",
    "\n",
    "    # Get the JSON content from the response\n",
    "    json_content = response.json()\n",
    "\n",
    "    # Print out the entire JSON response to see catergory names\n",
    "    return json_content\n",
    "\n"
   ]
  },
  {
   "attachments": {},
   "cell_type": "markdown",
   "metadata": {},
   "source": [
    "#### Step 2: Define functions to retrieve FourSquare results for Parks"
   ]
  },
  {
   "cell_type": "code",
   "execution_count": 8,
   "metadata": {},
   "outputs": [],
   "source": [
    "#Retrieve the Foursquare query results for a given latitude and longitude\n",
    "def bike_radius(latitude, longitude):\n",
    "    json_content = parks_foursquare_query(latitude, longitude)\n",
    "    poi = json_content['results']\n",
    "    return json_content\n",
    "\n",
    "#extract the relevant information from the Foursquare query result and store it in a dictionary that is returned as a list.\n",
    "def bike_radius_info(latitude, longitude, location_name):\n",
    "    json_content = parks_foursquare_query(latitude, longitude)\n",
    "    poi_list = []\n",
    "    for poi in json_content['results']:\n",
    "        poi_dict = {}\n",
    "        poi_dict['fsq_id'] = poi['fsq_id']\n",
    "        poi_dict['location_name'] = location_name\n",
    "        poi_dict['poi_type'] = [category['name'] for category in poi['categories']]\n",
    "        poi_list.append(poi_dict)\n",
    "    return poi_list"
   ]
  },
  {
   "attachments": {},
   "cell_type": "markdown",
   "metadata": {},
   "source": [
    "#### Step 3: Create a loop to parse through the CityBikes data and retrieve point of interest (POI) details on parks from Foursquare"
   ]
  },
  {
   "cell_type": "code",
   "execution_count": 9,
   "metadata": {},
   "outputs": [
    {
     "name": "stderr",
     "output_type": "stream",
     "text": [
      "100%|██████████| 249/249 [05:33<00:00,  1.34s/it]\n"
     ]
    }
   ],
   "source": [
    "# read the file containing the locations\n",
    "bike_df = pd.read_csv('/Users/brittanyharding/LHL-Projects/Statistical-Modelling-with-Python/notebooks/London_CityBikes_Data.csv')\n",
    "\n",
    "rand_df = bike_df.sample(n=250)\n",
    "\n",
    "# extract the name, latitude, and longitude columns from the City Bike Data\n",
    "names = rand_df['name'].unique()\n",
    "latitudes = rand_df['latitude'].unique()\n",
    "longitudes = rand_df['longitude'].unique()\n",
    "\n",
    "\n",
    "# create an empty list to store the dictionaries\n",
    "foursquare_parks_data_list = []\n",
    "\n",
    "# loop through each location and call the bike_radius_info function\n",
    "for i in tqdm(range(len(latitudes))):\n",
    "    fsq_ids = bike_radius_info(latitudes[i], longitudes[i], names[i])\n",
    "    for fsq_id in fsq_ids:\n",
    "        foursquare_parks_data_list.append({'fsq_id': fsq_id['fsq_id'], 'location_name': fsq_id['location_name'], 'poi_type': fsq_id['poi_type']})\n",
    "    time.sleep(1) # add 1 second delay between each iteration"
   ]
  },
  {
   "attachments": {},
   "cell_type": "markdown",
   "metadata": {},
   "source": [
    "#### Step 4:  Create a DataFrame with Foursquare park results"
   ]
  },
  {
   "cell_type": "code",
   "execution_count": 10,
   "metadata": {},
   "outputs": [],
   "source": [
    "foursquare_parks_df = pd.DataFrame(foursquare_parks_data_list)"
   ]
  },
  {
   "cell_type": "markdown",
   "metadata": {},
   "source": [
    "#### Step 5: Export DataFrame to CSV"
   ]
  },
  {
   "cell_type": "code",
   "execution_count": 11,
   "metadata": {},
   "outputs": [],
   "source": [
    "# export current yelp parks to Csv file to be able to review data further\n",
    "foursquare_parks_df.to_csv('foursquare_parks_df.csv', index=False)"
   ]
  },
  {
   "cell_type": "markdown",
   "metadata": {},
   "source": [
    "# Yelp"
   ]
  },
  {
   "attachments": {},
   "cell_type": "markdown",
   "metadata": {},
   "source": [
    "### Send a request to Yelp with a small radius (1000m) for all the bike stations in your city of choice. "
   ]
  },
  {
   "attachments": {},
   "cell_type": "markdown",
   "metadata": {},
   "source": [
    "##### Step 1: Yelp API key set up for restaurants"
   ]
  },
  {
   "cell_type": "code",
   "execution_count": 12,
   "metadata": {},
   "outputs": [],
   "source": [
    "# Setup Yelp API credentials \n",
    "api_key = os.environ.get('YELP_API_KEY')\n",
    "\n",
    "# Define the endpoint URL for the Yelp request\n",
    "endpoint = \"https://api.yelp.com/v3/businesses/search\"\n",
    "\n",
    "# Define the query parameters to include only the latitude and longitude fields\n",
    "def restaurant_yelp_query(latitude, longitude):\n",
    "    params = {\n",
    "        'latitude': latitude , 'longitude': longitude, 'radius': 1000, 'term': 'restaurant'\n",
    "        }\n",
    "    #Headers specific to Yelp - used to specify wanted metadata - not typically found under all APIs.\n",
    "    headers = {'Authorization': f'Bearer {api_key}'}\n",
    "\n",
    "    # Send an HTTP GET request to the endpoint URL with the query parameters\n",
    "    response = requests.get(endpoint, params=params, headers=headers)\n",
    "\n",
    "    # Get the JSON content from the response\n",
    "    json_content = response.json()\n",
    "\n",
    "    # Print out the entire JSON response to see catergory names\n",
    "    return json_content"
   ]
  },
  {
   "attachments": {},
   "cell_type": "markdown",
   "metadata": {},
   "source": [
    "#### Step 2: Define functions to retrieve Yelp results for restaurants"
   ]
  },
  {
   "cell_type": "code",
   "execution_count": 13,
   "metadata": {},
   "outputs": [],
   "source": [
    "#Retrieve the Yelp query results for a given latitude and longitude\n",
    "def bike_radius(latitude, longitude):\n",
    "    json_content = restaurant_yelp_query(latitude, longitude)\n",
    "    poi = json_content['results']\n",
    "    return json_content\n",
    "\n",
    "#extract the relevant information from the Yelp query result and store it in a dictionary that is returned as a list.\n",
    "def bike_radius_info(latitude, longitude, name):\n",
    "    json_content = restaurant_yelp_query(latitude, longitude)\n",
    "    poi_list = []\n",
    "    for poi in json_content['businesses']:\n",
    "        poi_dict = {}\n",
    "        poi_dict['id'] = poi['id']\n",
    "        poi_dict['location'] = name\n",
    "        poi_dict['categories'] = poi['categories']\n",
    "        poi_dict['rating'] = poi['rating']\n",
    "        poi_dict['name'] = poi['name']\n",
    "        try:\n",
    "            poi_dict['rating'] = poi['rating']\n",
    "        except:\n",
    "            poi_dict['rating'] = ''\n",
    "        try:\n",
    "            poi_dict['price'] = poi['price']\n",
    "        except:\n",
    "            poi_dict['price'] = ''\n",
    "        poi_list.append(poi_dict)\n",
    "    return poi_list"
   ]
  },
  {
   "attachments": {},
   "cell_type": "markdown",
   "metadata": {},
   "source": [
    "#### Step 3: Create a loop to parse through the CityBikes data and retrieve point of interest (POI) details on restaurants from Yelp"
   ]
  },
  {
   "cell_type": "code",
   "execution_count": 14,
   "metadata": {},
   "outputs": [
    {
     "name": "stderr",
     "output_type": "stream",
     "text": [
      "100%|██████████| 249/249 [01:53<00:00,  2.20it/s]\n"
     ]
    }
   ],
   "source": [
    "# read the file containing the locations\n",
    "bike_df = pd.read_csv('/Users/brittanyharding/LHL-Projects/Statistical-Modelling-with-Python/notebooks/London_CityBikes_Data.csv')\n",
    "\n",
    "\n",
    "# extract the name, latitude, and longitude columns from the City Bike Data\n",
    "names = rand_df['name'].unique()\n",
    "latitudes = rand_df['latitude'].unique()\n",
    "longitudes = rand_df['longitude'].unique()\n",
    "\n",
    "\n",
    "# create an empty list to store the dictionaries\n",
    "yelp_restaurant_data_list = []\n",
    "\n",
    "# loop through each location and call the bike_radius_info function\n",
    "for i in tqdm(range(len(latitudes))):\n",
    "    id = bike_radius_info(latitudes[i], longitudes[i], names[i])\n",
    "    for id in id:\n",
    "        yelp_restaurant_data_list.append({'id': id['id'], 'name': id['name'], 'location': id['location'], 'categories': id['categories'], 'rating': id['rating'],'price': id['price']})\n",
    "        "
   ]
  },
  {
   "attachments": {},
   "cell_type": "markdown",
   "metadata": {},
   "source": [
    "#### Step 4:  Create a DataFrame with Yelp restaurant results"
   ]
  },
  {
   "cell_type": "code",
   "execution_count": 15,
   "metadata": {},
   "outputs": [],
   "source": [
    "yelp_restaurants_df = pd.DataFrame(yelp_restaurant_data_list)"
   ]
  },
  {
   "cell_type": "markdown",
   "metadata": {},
   "source": [
    "#### Step 5: Export DataFrame to CSV"
   ]
  },
  {
   "cell_type": "code",
   "execution_count": 16,
   "metadata": {},
   "outputs": [],
   "source": [
    "# export current yelp_restaurants_df to Csv file to be able to review data further\n",
    "yelp_restaurants_df.to_csv('yelp_restaurants_df.csv', index=False)"
   ]
  },
  {
   "cell_type": "markdown",
   "metadata": {},
   "source": [
    "## Yelp Parks"
   ]
  },
  {
   "attachments": {},
   "cell_type": "markdown",
   "metadata": {},
   "source": [
    "##### Step 1: Yelp API key set up for parks"
   ]
  },
  {
   "cell_type": "code",
   "execution_count": 17,
   "metadata": {},
   "outputs": [],
   "source": [
    "# Setup Yelp API credentials \n",
    "api_key = os.environ.get('YELP_API_KEY')\n",
    "\n",
    "# Define the endpoint URL for the Yelp request\n",
    "endpoint = \"https://api.yelp.com/v3/businesses/search\"\n",
    "\n",
    "# Define the query parameters to include only the latitude and longitude fields\n",
    "def park_yelp_query(latitude, longitude):\n",
    "    params = {\n",
    "        'latitude': latitude , 'longitude': longitude, 'radius': 1000, 'term': 'parks'\n",
    "        }\n",
    "    #Headers specific to Yelp - used to specify wanted metadata - not typically found under all APIs.\n",
    "    headers = {'Authorization': f'Bearer {api_key}'}\n",
    "\n",
    "    # Send an HTTP GET request to the endpoint URL with the query parameters\n",
    "    response = requests.get(endpoint, params=params, headers=headers)\n",
    "\n",
    "    # Get the JSON content from the response\n",
    "    json_content = response.json()\n",
    "\n",
    "    # Print out the entire JSON response to see catergory names\n",
    "    return json_content"
   ]
  },
  {
   "attachments": {},
   "cell_type": "markdown",
   "metadata": {},
   "source": [
    "#### Step 2: Define functions to retrieve Yelp results for parks"
   ]
  },
  {
   "cell_type": "code",
   "execution_count": 18,
   "metadata": {},
   "outputs": [],
   "source": [
    "#Retrieve the Yelp query results for a given latitude and longitude\n",
    "def bike_radius(latitude, longitude):\n",
    "    json_content = park_yelp_query(latitude, longitude)\n",
    "    poi = json_content['results']\n",
    "    return json_content\n",
    "\n",
    "#extract the relevant information from the Yelp query result and store it in a dictionary that is returned as a list.\n",
    "def bike_radius_info(latitude, longitude, name):\n",
    "    json_content = park_yelp_query(latitude, longitude)\n",
    "    poi_list = []\n",
    "    for poi in json_content['businesses']:\n",
    "        poi_dict = {}\n",
    "        poi_dict['id'] = poi['id']\n",
    "        poi_dict['location'] = name\n",
    "        poi_dict['categories'] = poi['categories']\n",
    "        poi_dict['rating'] = poi['rating']\n",
    "        poi_dict['name'] = poi['name']\n",
    "        try:\n",
    "            poi_dict['rating'] = poi['rating']\n",
    "        except:\n",
    "            poi_dict['rating'] = ''\n",
    "        try:\n",
    "            poi_dict['price'] = poi['price']\n",
    "        except:\n",
    "            poi_dict['price'] = ''\n",
    "        poi_list.append(poi_dict)\n",
    "    return poi_list"
   ]
  },
  {
   "attachments": {},
   "cell_type": "markdown",
   "metadata": {},
   "source": [
    "#### Step 3: Create a loop to parse through the CityBikes data and retrieve point of interest (POI) details on parks from Yelp"
   ]
  },
  {
   "cell_type": "code",
   "execution_count": 19,
   "metadata": {},
   "outputs": [
    {
     "name": "stderr",
     "output_type": "stream",
     "text": [
      "100%|██████████| 249/249 [01:21<00:00,  3.04it/s]\n"
     ]
    }
   ],
   "source": [
    "# read the file containing the locations\n",
    "bike_df = pd.read_csv('/Users/brittanyharding/LHL-Projects/Statistical-Modelling-with-Python/notebooks/London_CityBikes_Data.csv')\n",
    "\n",
    "\n",
    "# extract the name, latitude, and longitude columns from the City Bike Data\n",
    "names = rand_df['name'].unique()\n",
    "latitudes = rand_df['latitude'].unique()\n",
    "longitudes = rand_df['longitude'].unique()\n",
    "\n",
    "\n",
    "# create an empty list to store the dictionaries\n",
    "yelp_park_data_list = []\n",
    "\n",
    "# loop through each location and call the bike_radius_info function\n",
    "for i in tqdm(range(len(latitudes))):\n",
    "    id = bike_radius_info(latitudes[i], longitudes[i], names[i])\n",
    "    for id in id:\n",
    "        yelp_park_data_list.append({'id': id['id'], 'name': id['name'], 'location': id['location'], 'categories': id['categories'], 'rating': id['rating'],'price': id['price']})\n",
    "        "
   ]
  },
  {
   "attachments": {},
   "cell_type": "markdown",
   "metadata": {},
   "source": [
    "#### Step 4:  Create a DataFrame with Yelp park results"
   ]
  },
  {
   "cell_type": "code",
   "execution_count": 20,
   "metadata": {},
   "outputs": [],
   "source": [
    "yelp_parks_df = pd.DataFrame(yelp_park_data_list)"
   ]
  },
  {
   "attachments": {},
   "cell_type": "markdown",
   "metadata": {},
   "source": [
    "#### Step 5: Export DataFrame to CSV"
   ]
  },
  {
   "cell_type": "code",
   "execution_count": 21,
   "metadata": {},
   "outputs": [],
   "source": [
    "# export current yelp_parks_df to Csv file to be able to review data further\n",
    "yelp_parks_df.to_csv('yelp_parks_df.csv', index=False)"
   ]
  },
  {
   "cell_type": "markdown",
   "metadata": {},
   "source": [
    "# Comparing Results"
   ]
  },
  {
   "cell_type": "markdown",
   "metadata": {},
   "source": [
    "Which API provided you with more complete data? Provide an explanation. "
   ]
  },
  {
   "attachments": {},
   "cell_type": "markdown",
   "metadata": {},
   "source": [
    "The Yelp API was able to provide much greater and complete data than the FourSquare API.\n",
    "\n",
    "I think this occured due to a number of reasons, including:\n",
    "\n",
    "Data sources: Yelp and FourSquare may use different data sources to collect and aggregate their data. Yelp may have access to more comprehensive and diverse sources of data, such as user-generated reviews and ratings, while FourSquare may rely more on user check-ins and business listings."
   ]
  },
  {
   "cell_type": "markdown",
   "metadata": {},
   "source": [
    "Get the top 10 restaurants according to their rating"
   ]
  },
  {
   "cell_type": "code",
   "execution_count": null,
   "metadata": {},
   "outputs": [],
   "source": []
  }
 ],
 "metadata": {
  "kernelspec": {
   "display_name": "Python 3 (ipykernel)",
   "language": "python",
   "name": "python3"
  },
  "language_info": {
   "codemirror_mode": {
    "name": "ipython",
    "version": 3
   },
   "file_extension": ".py",
   "mimetype": "text/x-python",
   "name": "python",
   "nbconvert_exporter": "python",
   "pygments_lexer": "ipython3",
   "version": "3.11.1"
  }
 },
 "nbformat": 4,
 "nbformat_minor": 4
}
