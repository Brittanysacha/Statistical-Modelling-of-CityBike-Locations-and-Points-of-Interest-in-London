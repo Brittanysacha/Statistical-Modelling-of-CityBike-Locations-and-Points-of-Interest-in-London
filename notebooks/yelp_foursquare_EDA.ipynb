{
 "cells": [
  {
   "attachments": {},
   "cell_type": "markdown",
   "metadata": {},
   "source": [
    "# Statistics Modelling with Python, Project Two\n",
    "### Part 2: Connecting to Foursquare and Yelp APIs"
   ]
  },
  {
   "attachments": {},
   "cell_type": "markdown",
   "metadata": {},
   "source": [
    "#### Import libraries"
   ]
  },
  {
   "cell_type": "code",
   "execution_count": 129,
   "metadata": {
    "tags": []
   },
   "outputs": [],
   "source": [
    "import requests\n",
    "import json\n",
    "import os\n",
    "import foursquare\n",
    "import pandas as pd\n",
    "from tqdm import tqdm\n",
    "import time\n",
    "from time import sleep"
   ]
  },
  {
   "attachments": {},
   "cell_type": "markdown",
   "metadata": {},
   "source": [
    "# Foursquare\n",
    "### Send a request to Foursquare with a small radius (250m) for all the bike stations in your city of choice.  \n",
    "###### (I opted to lower this from 1000m to 250m as otherwise all of the CityBike staions would overlap)"
   ]
  },
  {
   "attachments": {},
   "cell_type": "markdown",
   "metadata": {},
   "source": [
    "#### Step 1: Foursquare API key set up for restaurants"
   ]
  },
  {
   "cell_type": "code",
   "execution_count": 155,
   "metadata": {
    "tags": []
   },
   "outputs": [],
   "source": [
    "# Setup Foursquare API credentials \n",
    "api_key = os.environ.get('FOURSQUARE_API_KEY')\n",
    "\n",
    "# Define the endpoint URL for the Foursqare request\n",
    "endpoint = \"https://api.foursquare.com/v3/places/search\"\n",
    "\n",
    "# Define the query parameters to include only the latitude and longitude fields\n",
    "def restaurant_foursquare_query(latitude, longitude):\n",
    "    params = {\n",
    "        'll': f'{latitude},{longitude}', 'radius':'250', 'query':'Restaurant', 'price': \"1,2,3,4\"\n",
    "        }\n",
    "    #Headers specific to FourSquare - used to specify wanted metadata - not typically found under all APIs. Found under https://location.foursquare.com/developer/reference/authentication\n",
    "    headers = {\"Accept\": \"application/json\",\n",
    "        \"Authorization\": api_key\n",
    "        }\n",
    "\n",
    "    # Send an HTTP GET request to the endpoint URL with the query parameters\n",
    "    response = requests.get(endpoint, params=params, headers=headers)\n",
    "\n",
    "    # Get the JSON content from the response\n",
    "    json_content = response.json()\n",
    "\n",
    "    # Print out the entire JSON response to see catergory names\n",
    "    return json_content\n",
    "\n"
   ]
  },
  {
   "attachments": {},
   "cell_type": "markdown",
   "metadata": {},
   "source": [
    "#### Step 2: Define functions to retrieve FourSquare results for restaurants"
   ]
  },
  {
   "cell_type": "code",
   "execution_count": 153,
   "metadata": {
    "tags": []
   },
   "outputs": [],
   "source": [
    "#Retrieve the Foursquare query results for a given latitude and longitude\n",
    "def bike_radius(latitude, longitude):\n",
    "    json_content = restaurant_foursquare_query(latitude, longitude)\n",
    "    poi = json_content['results']\n",
    "    return json_content\n",
    "\n",
    "#extract the relevant information from the Foursquare query result and store it in a dictionary that is returned as a list.\n",
    "def bike_radius_info(latitude, longitude, location_name):\n",
    "    json_content = restaurant_foursquare_query(latitude, longitude)\n",
    "    poi_list = []\n",
    "    for poi in json_content['results']:\n",
    "        poi_dict = {}\n",
    "        poi_dict['fsq_id'] = poi['fsq_id']\n",
    "        poi_dict['location_name'] = location_name\n",
    "        poi_dict['name'] = poi['name']\n",
    "        try:\n",
    "            poi_dict['rating'] = poi['rating']\n",
    "        except:\n",
    "            poi_dict['rating'] = ''\n",
    "        try:\n",
    "            poi_dict['price'] = poi['price']\n",
    "        except:\n",
    "            poi_dict['price'] = ''\n",
    "        poi_dict['poi_type'] = [category['name'] for category in poi['categories']]\n",
    "        poi_list.append(poi_dict)\n",
    "    return poi_list"
   ]
  },
  {
   "attachments": {},
   "cell_type": "markdown",
   "metadata": {},
   "source": [
    "#### Step 3: Create a loop to parse through the CityBikes data and retrieve point of interest (POI) details on restaurants from Foursquare"
   ]
  },
  {
   "cell_type": "code",
   "execution_count": 1,
   "metadata": {
    "collapsed": true,
    "jupyter": {
     "outputs_hidden": true
    },
    "tags": []
   },
   "outputs": [],
   "source": [
    "# read the file containing the locations\n",
    "bike_df = pd.read_csv('/Users/brittanyharding/LHL-Projects/Statistical-Modelling-with-Python/data/CSV_files/London_CityBikes_Data.csv')\n",
    "\n",
    "rand_df = bike_df.sample(n=250)\n",
    "\n",
    "# extract the name, latitude, and longitude columns from the City Bike Data\n",
    "names = rand_df['name'].unique()\n",
    "latitudes = rand_df['latitude'].unique()\n",
    "longitudes = rand_df['longitude'].unique()\n",
    "\n",
    "\n",
    "# create an empty list to store the dictionaries\n",
    "foursquare_restaurant_data_list = []\n",
    "\n",
    "# loop through each location and call the bike_radius_info function\n",
    "for i in tqdm(range(len(latitudes))):\n",
    "    fsq_ids = bike_radius_info(latitudes[i], longitudes[i], names[i])\n",
    "    for fsq_id in fsq_ids:\n",
    "        foursquare_parks_data_list.append({\n",
    "            'fsq_id': fsq_id['fsq_id'], \n",
    "            'location_name': fsq_id['location_name'],\n",
    "            'name': fsq_id['name'],\n",
    "            'poi_type': fsq_id['poi_type'],                   \n",
    "            'rating': fsq_id['rating'],\n",
    "            'price': fsq_id['price']})\n",
    "    time.sleep(1) # add 1 second delay between each iteration"
   ]
  },
  {
   "attachments": {},
   "cell_type": "markdown",
   "metadata": {},
   "source": [
    "#### Step 4:  Create a DataFrame with Foursquare restaurant results"
   ]
  },
  {
   "cell_type": "code",
   "execution_count": 134,
   "metadata": {},
   "outputs": [],
   "source": [
    "foursquare_restaurants_df = pd.DataFrame(foursquare_restaurants_data_list)"
   ]
  },
  {
   "cell_type": "markdown",
   "metadata": {},
   "source": [
    "#### Step 5: Export DataFrame to CSV"
   ]
  },
  {
   "cell_type": "code",
   "execution_count": 135,
   "metadata": {},
   "outputs": [],
   "source": [
    "# export current yelp restaurants_df to Csv file to be able to review data further\n",
    "foursquare_restaurants_df.to_csv('foursquare_restaurants_df.csv', index=False)"
   ]
  },
  {
   "attachments": {},
   "cell_type": "markdown",
   "metadata": {},
   "source": [
    "#### Step 1: Foursquare API key set up for Parks"
   ]
  },
  {
   "cell_type": "code",
   "execution_count": 136,
   "metadata": {},
   "outputs": [],
   "source": [
    "# Setup Foursquare API credentials \n",
    "api_key = os.environ.get('FOURSQUARE_API_KEY')\n",
    "\n",
    "# Define the endpoint URL for the Foursqare request\n",
    "endpoint = \"https://api.foursquare.com/v3/places/search\"\n",
    "\n",
    "# Define the query parameters to include only the latitude and longitude fields\n",
    "def parks_foursquare_query(latitude, longitude):\n",
    "    params = {\n",
    "        'll': f'{latitude},{longitude}', 'radius':'250', 'query':'Parks', 'venuePhotos': '1', 'price': \"1,2,3,4\"\n",
    "        }\n",
    "    #Headers specific to FourSquare - used to specify wanted metadata - not typically found under all APIs. Found under https://location.foursquare.com/developer/reference/authentication\n",
    "    headers = {\"Accept\": \"application/json\",\n",
    "        \"Authorization\": api_key\n",
    "        }\n",
    "\n",
    "    # Send an HTTP GET request to the endpoint URL with the query parameters\n",
    "    response = requests.get(endpoint, params=params, headers=headers)\n",
    "\n",
    "    # Get the JSON content from the response\n",
    "    json_content = response.json()\n",
    "\n",
    "    # Print out the entire JSON response to see catergory names\n",
    "    return json_content\n",
    "\n"
   ]
  },
  {
   "attachments": {},
   "cell_type": "markdown",
   "metadata": {},
   "source": [
    "#### Step 2: Define functions to retrieve FourSquare results for Parks"
   ]
  },
  {
   "cell_type": "code",
   "execution_count": 137,
   "metadata": {},
   "outputs": [],
   "source": [
    "#Retrieve the Foursquare query results for a given latitude and longitude\n",
    "def bike_radius(latitude, longitude):\n",
    "    json_content = parks_foursquare_query(latitude, longitude)\n",
    "    poi = json_content['results']\n",
    "    return json_content\n",
    "\n",
    "#extract the relevant information from the Foursquare query result and store it in a dictionary that is returned as a list.\n",
    "def bike_radius_info(latitude, longitude, location_name):\n",
    "    json_content = parks_foursquare_query(latitude, longitude)\n",
    "    poi_list = []\n",
    "    for poi in json_content['results']:\n",
    "        poi_dict = {}\n",
    "        poi_dict['fsq_id'] = poi['fsq_id']\n",
    "        poi_dict['location_name'] = location_name\n",
    "        poi_dict['name'] = poi['name']\n",
    "        try:\n",
    "            poi_dict['rating'] = poi['rating']\n",
    "        except:\n",
    "            poi_dict['rating'] = ''\n",
    "        try:\n",
    "            poi_dict['price'] = poi['price']\n",
    "        except:\n",
    "            poi_dict['price'] = ''\n",
    "        poi_dict['poi_type'] = [category['name'] for category in poi['categories']]\n",
    "        poi_list.append(poi_dict)\n",
    "    return poi_list"
   ]
  },
  {
   "attachments": {},
   "cell_type": "markdown",
   "metadata": {},
   "source": [
    "#### Step 3: Create a loop to parse through the CityBikes data and retrieve point of interest (POI) details on parks from Foursquare"
   ]
  },
  {
   "cell_type": "code",
   "execution_count": 138,
   "metadata": {},
   "outputs": [
    {
     "name": "stderr",
     "output_type": "stream",
     "text": [
      "100%|██████████| 250/250 [05:03<00:00,  1.21s/it]\n"
     ]
    }
   ],
   "source": [
    "# read the file containing the locations\n",
    "bike_df = pd.read_csv('/Users/brittanyharding/LHL-Projects/Statistical-Modelling-with-Python/data/CSV_files/London_CityBikes_Data.csv')\n",
    "\n",
    "# extract the name, latitude, and longitude columns from the City Bike Data\n",
    "names = rand_df['name'].unique()\n",
    "latitudes = rand_df['latitude'].unique()\n",
    "longitudes = rand_df['longitude'].unique()\n",
    "\n",
    "\n",
    "# create an empty list to store the dictionaries\n",
    "foursquare_parks_data_list = []\n",
    "\n",
    "# loop through each location and call the bike_radius_info function\n",
    "for i in tqdm(range(len(latitudes))):\n",
    "    fsq_ids = bike_radius_info(latitudes[i], longitudes[i], names[i])\n",
    "    for fsq_id in fsq_ids:\n",
    "        foursquare_parks_data_list.append({\n",
    "            'fsq_id': fsq_id['fsq_id'], \n",
    "            'location_name': fsq_id['location_name'],\n",
    "            'name': fsq_id['name'],\n",
    "            'poi_type': fsq_id['poi_type'],                   \n",
    "            'rating': fsq_id['rating'],\n",
    "            'price': fsq_id['price']})\n",
    "    time.sleep(1) # add 1 second delay between each iteration"
   ]
  },
  {
   "attachments": {},
   "cell_type": "markdown",
   "metadata": {},
   "source": [
    "#### Step 4:  Create a DataFrame with Foursquare park results"
   ]
  },
  {
   "cell_type": "code",
   "execution_count": 139,
   "metadata": {},
   "outputs": [],
   "source": [
    "foursquare_parks_df = pd.DataFrame(foursquare_parks_data_list)"
   ]
  },
  {
   "cell_type": "markdown",
   "metadata": {},
   "source": [
    "#### Step 5: Export DataFrame to CSV"
   ]
  },
  {
   "cell_type": "code",
   "execution_count": 140,
   "metadata": {},
   "outputs": [],
   "source": [
    "# export current yelp parks to Csv file to be able to review data further\n",
    "foursquare_parks_df.to_csv('foursquare_parks_df.csv', index=False)"
   ]
  },
  {
   "cell_type": "markdown",
   "metadata": {},
   "source": [
    "# Yelp"
   ]
  },
  {
   "attachments": {},
   "cell_type": "markdown",
   "metadata": {},
   "source": [
    "### Send a request to Yelp with a small radius (1000m) for all the bike stations in your city of choice. "
   ]
  },
  {
   "attachments": {},
   "cell_type": "markdown",
   "metadata": {},
   "source": [
    "#### Step 1: Yelp API key set up for restaurants"
   ]
  },
  {
   "cell_type": "code",
   "execution_count": 141,
   "metadata": {},
   "outputs": [],
   "source": [
    "# Setup Yelp API credentials \n",
    "api_key = os.environ.get('YELP_API_KEY')\n",
    "\n",
    "# Define the endpoint URL for the Yelp request\n",
    "endpoint = \"https://api.yelp.com/v3/businesses/search\"\n",
    "\n",
    "# Define the query parameters to include only the latitude and longitude fields\n",
    "def restaurant_yelp_query(latitude, longitude):\n",
    "    params = {\n",
    "        'latitude': latitude , 'longitude': longitude, 'radius': 250, 'term': 'restaurant'\n",
    "        }\n",
    "    #Headers specific to Yelp - used to specify wanted metadata - not typically found under all APIs.\n",
    "    headers = {'Authorization': f'Bearer {api_key}'}\n",
    "\n",
    "    # Send an HTTP GET request to the endpoint URL with the query parameters\n",
    "    response = requests.get(endpoint, params=params, headers=headers)\n",
    "\n",
    "    # Get the JSON content from the response\n",
    "    json_content = response.json()\n",
    "\n",
    "    # Print out the entire JSON response to see catergory names\n",
    "    return json_content"
   ]
  },
  {
   "attachments": {},
   "cell_type": "markdown",
   "metadata": {},
   "source": [
    "#### Step 2: Define functions to retrieve Yelp results for restaurants"
   ]
  },
  {
   "cell_type": "code",
   "execution_count": 142,
   "metadata": {},
   "outputs": [],
   "source": [
    "#Retrieve the Yelp query results for a given latitude and longitude\n",
    "def bike_radius(latitude, longitude):\n",
    "    json_content = restaurant_yelp_query(latitude, longitude)\n",
    "    poi = json_content['results']\n",
    "    return json_content\n",
    "\n",
    "#extract the relevant information from the Yelp query result and store it in a dictionary that is returned as a list.\n",
    "def bike_radius_info(latitude, longitude, name):\n",
    "    json_content = restaurant_yelp_query(latitude, longitude)\n",
    "    poi_list = []\n",
    "    for poi in json_content['businesses']:\n",
    "        poi_dict = {}\n",
    "        poi_dict['id'] = poi['id']\n",
    "        poi_dict['location'] = name\n",
    "        poi_dict['categories'] = poi['categories']\n",
    "        poi_dict['rating'] = poi['rating']\n",
    "        poi_dict['name'] = poi['name']\n",
    "        try:\n",
    "            poi_dict['rating'] = poi['rating']\n",
    "        except:\n",
    "            poi_dict['rating'] = ''\n",
    "        try:\n",
    "            poi_dict['price'] = poi['price']\n",
    "        except:\n",
    "            poi_dict['price'] = ''\n",
    "        poi_list.append(poi_dict)\n",
    "    return poi_list"
   ]
  },
  {
   "attachments": {},
   "cell_type": "markdown",
   "metadata": {},
   "source": [
    "#### Step 3: Create a loop to parse through the CityBikes data and retrieve point of interest (POI) details on restaurants from Yelp"
   ]
  },
  {
   "cell_type": "code",
   "execution_count": 143,
   "metadata": {},
   "outputs": [
    {
     "name": "stderr",
     "output_type": "stream",
     "text": [
      "100%|██████████| 250/250 [02:01<00:00,  2.06it/s]\n"
     ]
    }
   ],
   "source": [
    "# read the file containing the locations\n",
    "bike_df = pd.read_csv('/Users/brittanyharding/LHL-Projects/Statistical-Modelling-with-Python/data/CSV_files/London_CityBikes_Data.csv')\n",
    "\n",
    "# extract the name, latitude, and longitude columns from the City Bike Data\n",
    "names = rand_df['name'].unique()\n",
    "latitudes = rand_df['latitude'].unique()\n",
    "longitudes = rand_df['longitude'].unique()\n",
    "\n",
    "# create an empty list to store the dictionaries\n",
    "yelp_restaurant_data_list = []\n",
    "\n",
    "# loop through each location and call the bike_radius_info function\n",
    "for i in tqdm(range(len(latitudes))):\n",
    "    id = bike_radius_info(latitudes[i], longitudes[i], names[i])\n",
    "    for id in id:\n",
    "        yelp_restaurant_data_list.append({'id': id['id'], 'name': id['name'], 'location': id['location'], 'categories': id['categories'], 'rating': id['rating'],'price': id['price']})\n",
    "        "
   ]
  },
  {
   "attachments": {},
   "cell_type": "markdown",
   "metadata": {},
   "source": [
    "#### Step 4:  Create a DataFrame with Yelp restaurant results"
   ]
  },
  {
   "cell_type": "code",
   "execution_count": 144,
   "metadata": {},
   "outputs": [],
   "source": [
    "yelp_restaurants_df = pd.DataFrame(yelp_restaurant_data_list)"
   ]
  },
  {
   "cell_type": "markdown",
   "metadata": {},
   "source": [
    "#### Step 5: Export DataFrame to CSV"
   ]
  },
  {
   "cell_type": "code",
   "execution_count": 145,
   "metadata": {},
   "outputs": [],
   "source": [
    "# export current yelp_restaurants_df to Csv file to be able to review data further\n",
    "yelp_restaurants_df.to_csv('yelp_restaurants_df.csv', index=False)"
   ]
  },
  {
   "cell_type": "markdown",
   "metadata": {},
   "source": [
    "## Yelp Parks"
   ]
  },
  {
   "attachments": {},
   "cell_type": "markdown",
   "metadata": {},
   "source": [
    "#### Step 1: Yelp API key set up for parks"
   ]
  },
  {
   "cell_type": "code",
   "execution_count": 146,
   "metadata": {},
   "outputs": [],
   "source": [
    "# Setup Yelp API credentials \n",
    "api_key = os.environ.get('YELP_API_KEY')\n",
    "\n",
    "# Define the endpoint URL for the Yelp request\n",
    "endpoint = \"https://api.yelp.com/v3/businesses/search\"\n",
    "\n",
    "# Define the query parameters to include only the latitude and longitude fields\n",
    "def park_yelp_query(latitude, longitude):\n",
    "    params = {\n",
    "        'latitude': latitude , 'longitude': longitude, 'radius': 250, 'term': 'parks'\n",
    "        }\n",
    "    #Headers specific to Yelp - used to specify wanted metadata - not typically found under all APIs.\n",
    "    headers = {'Authorization': f'Bearer {api_key}'}\n",
    "\n",
    "    # Send an HTTP GET request to the endpoint URL with the query parameters\n",
    "    response = requests.get(endpoint, params=params, headers=headers)\n",
    "\n",
    "    # Get the JSON content from the response\n",
    "    json_content = response.json()\n",
    "\n",
    "    # Print out the entire JSON response to see catergory names\n",
    "    return json_content"
   ]
  },
  {
   "attachments": {},
   "cell_type": "markdown",
   "metadata": {},
   "source": [
    "#### Step 2: Define functions to retrieve Yelp results for parks"
   ]
  },
  {
   "cell_type": "code",
   "execution_count": 147,
   "metadata": {},
   "outputs": [],
   "source": [
    "#Retrieve the Yelp query results for a given latitude and longitude\n",
    "def bike_radius(latitude, longitude):\n",
    "    json_content = park_yelp_query(latitude, longitude)\n",
    "    poi = json_content['results']\n",
    "    return json_content\n",
    "\n",
    "#extract the relevant information from the Yelp query result and store it in a dictionary that is returned as a list.\n",
    "def bike_radius_info(latitude, longitude, name):\n",
    "    json_content = park_yelp_query(latitude, longitude)\n",
    "    poi_list = []\n",
    "    for poi in json_content['businesses']:\n",
    "        poi_dict = {}\n",
    "        poi_dict['id'] = poi['id']\n",
    "        poi_dict['location'] = name\n",
    "        poi_dict['categories'] = poi['categories']\n",
    "        poi_dict['rating'] = poi['rating']\n",
    "        poi_dict['name'] = poi['name']\n",
    "        try:\n",
    "            poi_dict['rating'] = poi['rating']\n",
    "        except:\n",
    "            poi_dict['rating'] = ''\n",
    "        try:\n",
    "            poi_dict['price'] = poi['price']\n",
    "        except:\n",
    "            poi_dict['price'] = ''\n",
    "        poi_list.append(poi_dict)\n",
    "    return poi_list"
   ]
  },
  {
   "attachments": {},
   "cell_type": "markdown",
   "metadata": {},
   "source": [
    "#### Step 3: Create a loop to parse through the CityBikes data and retrieve point of interest (POI) details on parks from Yelp"
   ]
  },
  {
   "cell_type": "code",
   "execution_count": 148,
   "metadata": {},
   "outputs": [
    {
     "name": "stderr",
     "output_type": "stream",
     "text": [
      "100%|██████████| 250/250 [01:16<00:00,  3.26it/s]\n"
     ]
    }
   ],
   "source": [
    "# read the file containing the locations\n",
    "bike_df = pd.read_csv('/Users/brittanyharding/LHL-Projects/Statistical-Modelling-with-Python/data/CSV_files/London_CityBikes_Data.csv')\n",
    "\n",
    "# extract the name, latitude, and longitude columns from the City Bike Data\n",
    "names = rand_df['name'].unique()\n",
    "latitudes = rand_df['latitude'].unique()\n",
    "longitudes = rand_df['longitude'].unique()\n",
    "\n",
    "\n",
    "# create an empty list to store the dictionaries\n",
    "yelp_park_data_list = []\n",
    "\n",
    "# loop through each location and call the bike_radius_info function\n",
    "for i in tqdm(range(len(latitudes))):\n",
    "    id = bike_radius_info(latitudes[i], longitudes[i], names[i])\n",
    "    for id in id:\n",
    "        yelp_park_data_list.append({'id': id['id'], 'name': id['name'], 'location': id['location'], 'categories': id['categories'], 'rating': id['rating'],'price': id['price']})\n",
    "        "
   ]
  },
  {
   "attachments": {},
   "cell_type": "markdown",
   "metadata": {},
   "source": [
    "#### Step 4:  Create a DataFrame with Yelp park results"
   ]
  },
  {
   "cell_type": "code",
   "execution_count": 149,
   "metadata": {},
   "outputs": [],
   "source": [
    "yelp_parks_df = pd.DataFrame(yelp_park_data_list)"
   ]
  },
  {
   "attachments": {},
   "cell_type": "markdown",
   "metadata": {},
   "source": [
    "#### Step 5: Export DataFrame to CSV"
   ]
  },
  {
   "cell_type": "code",
   "execution_count": 150,
   "metadata": {},
   "outputs": [],
   "source": [
    "# export current yelp_parks_df to Csv file to be able to review data further\n",
    "yelp_parks_df.to_csv('yelp_parks_df.csv', index=False)"
   ]
  },
  {
   "cell_type": "markdown",
   "metadata": {},
   "source": [
    "# Comparing Results"
   ]
  },
  {
   "attachments": {},
   "cell_type": "markdown",
   "metadata": {},
   "source": [
    "#### Which API provided you with more complete data? Provide an explanation. "
   ]
  },
  {
   "attachments": {},
   "cell_type": "markdown",
   "metadata": {},
   "source": [
    "###### The Yelp API provided more comprehensive data than the FourSquare API. Although FourSquare offered options to retrieve additional information, such as pricing and ratings, much of this data was not available on the API network for London, England. This could be due to Yelp and FourSquare using different data sources to collect and aggregate their data. Additionally, Yelp may have access to more diverse and comprehensive sources, including user-generated reviews and ratings, while FourSquare may rely more on user check-ins and business listings.\n",
    "\n",
    "###### The limitations of the FourSquare API, such as incomplete and unavailable data, affected my ability to draw conclusions about certain aspects of the restaurants and parks surrounding CityBike locations. This highlights the importance of considering the limitations of available data sources in any data analysis project, as without consistent data it is not possible to conduct a more in-depth analysis, provide additional insights, and uncover meaningful trends."
   ]
  },
  {
   "attachments": {},
   "cell_type": "markdown",
   "metadata": {},
   "source": [
    "### Get the top 10 restaurants according to their rating"
   ]
  },
  {
   "cell_type": "code",
   "execution_count": 151,
   "metadata": {},
   "outputs": [
    {
     "data": {
      "text/html": [
       "<div>\n",
       "<style scoped>\n",
       "    .dataframe tbody tr th:only-of-type {\n",
       "        vertical-align: middle;\n",
       "    }\n",
       "\n",
       "    .dataframe tbody tr th {\n",
       "        vertical-align: top;\n",
       "    }\n",
       "\n",
       "    .dataframe thead th {\n",
       "        text-align: right;\n",
       "    }\n",
       "</style>\n",
       "<table border=\"1\" class=\"dataframe\">\n",
       "  <thead>\n",
       "    <tr style=\"text-align: right;\">\n",
       "      <th></th>\n",
       "      <th>id</th>\n",
       "      <th>name</th>\n",
       "      <th>location</th>\n",
       "      <th>categories</th>\n",
       "      <th>rating</th>\n",
       "      <th>price</th>\n",
       "    </tr>\n",
       "  </thead>\n",
       "  <tbody>\n",
       "    <tr>\n",
       "      <th>1716</th>\n",
       "      <td>lKfvqN-13wuLWjpeN7mDAw</td>\n",
       "      <td>Carmel by the Green</td>\n",
       "      <td>200131 - Clarkson Street, Bethnal Green</td>\n",
       "      <td>[{'alias': 'cafes', 'title': 'Cafes'}, {'alias...</td>\n",
       "      <td>5.0</td>\n",
       "      <td></td>\n",
       "    </tr>\n",
       "    <tr>\n",
       "      <th>2087</th>\n",
       "      <td>Uw6EjFp_T_B9W54pUSROdQ</td>\n",
       "      <td>Nando's</td>\n",
       "      <td>001036 - Crawford Street, Marylebone</td>\n",
       "      <td>[{'alias': 'hotdogs', 'title': 'Fast Food'}, {...</td>\n",
       "      <td>5.0</td>\n",
       "      <td>£</td>\n",
       "    </tr>\n",
       "    <tr>\n",
       "      <th>2031</th>\n",
       "      <td>afHfidMfqQKH0KtcayoYUw</td>\n",
       "      <td>Tops Pizza</td>\n",
       "      <td>200190 - Queen's Circus, Battersea Park</td>\n",
       "      <td>[{'alias': 'pizza', 'title': 'Pizza'}, {'alias...</td>\n",
       "      <td>5.0</td>\n",
       "      <td>£</td>\n",
       "    </tr>\n",
       "    <tr>\n",
       "      <th>2040</th>\n",
       "      <td>iily7HL1Ab1zKmCs0bRj6A</td>\n",
       "      <td>Kim's</td>\n",
       "      <td>200016 - Castlehaven Road, Camden Town</td>\n",
       "      <td>[{'alias': 'vietnamese', 'title': 'Vietnamese'}]</td>\n",
       "      <td>5.0</td>\n",
       "      <td>£</td>\n",
       "    </tr>\n",
       "    <tr>\n",
       "      <th>2045</th>\n",
       "      <td>--_1qlRyjSRY1poCHjaLlA</td>\n",
       "      <td>Italian Alley</td>\n",
       "      <td>200016 - Castlehaven Road, Camden Town</td>\n",
       "      <td>[{'alias': 'italian', 'title': 'Italian'}, {'a...</td>\n",
       "      <td>5.0</td>\n",
       "      <td></td>\n",
       "    </tr>\n",
       "    <tr>\n",
       "      <th>2050</th>\n",
       "      <td>IAORFVwv9BIG5X_OUjBVDg</td>\n",
       "      <td>Bian Dang</td>\n",
       "      <td>200016 - Castlehaven Road, Camden Town</td>\n",
       "      <td>[{'alias': 'streetvendors', 'title': 'Street V...</td>\n",
       "      <td>5.0</td>\n",
       "      <td></td>\n",
       "    </tr>\n",
       "    <tr>\n",
       "      <th>455</th>\n",
       "      <td>OxVF09YyKL2A_4EAoOCFyw</td>\n",
       "      <td>Scarlet Rosita Food</td>\n",
       "      <td>002637 - Bermondsey Street, Bermondsey</td>\n",
       "      <td>[{'alias': 'foodstands', 'title': 'Food Stands'}]</td>\n",
       "      <td>5.0</td>\n",
       "      <td></td>\n",
       "    </tr>\n",
       "    <tr>\n",
       "      <th>2052</th>\n",
       "      <td>WVVWW0kFsFpux_SpZLf6Lw</td>\n",
       "      <td>Belly N Bao</td>\n",
       "      <td>200016 - Castlehaven Road, Camden Town</td>\n",
       "      <td>[{'alias': 'taiwanese', 'title': 'Taiwanese'},...</td>\n",
       "      <td>5.0</td>\n",
       "      <td></td>\n",
       "    </tr>\n",
       "    <tr>\n",
       "      <th>2054</th>\n",
       "      <td>_TpRjqSg_MSm8Kh2-DcKng</td>\n",
       "      <td>Near &amp; Far Camden</td>\n",
       "      <td>200016 - Castlehaven Road, Camden Town</td>\n",
       "      <td>[{'alias': 'cocktailbars', 'title': 'Cocktail ...</td>\n",
       "      <td>5.0</td>\n",
       "      <td></td>\n",
       "    </tr>\n",
       "    <tr>\n",
       "      <th>2063</th>\n",
       "      <td>IC1BAwfP-8Vt5SXujGFtug</td>\n",
       "      <td>Roxie Steak &amp; Wine Cafe</td>\n",
       "      <td>200217 - Disraeli Road, Putney</td>\n",
       "      <td>[{'alias': 'steak', 'title': 'Steakhouses'}]</td>\n",
       "      <td>5.0</td>\n",
       "      <td>££</td>\n",
       "    </tr>\n",
       "  </tbody>\n",
       "</table>\n",
       "</div>"
      ],
      "text/plain": [
       "                          id                     name   \n",
       "1716  lKfvqN-13wuLWjpeN7mDAw      Carmel by the Green  \\\n",
       "2087  Uw6EjFp_T_B9W54pUSROdQ                  Nando's   \n",
       "2031  afHfidMfqQKH0KtcayoYUw               Tops Pizza   \n",
       "2040  iily7HL1Ab1zKmCs0bRj6A                    Kim's   \n",
       "2045  --_1qlRyjSRY1poCHjaLlA            Italian Alley   \n",
       "2050  IAORFVwv9BIG5X_OUjBVDg                Bian Dang   \n",
       "455   OxVF09YyKL2A_4EAoOCFyw      Scarlet Rosita Food   \n",
       "2052  WVVWW0kFsFpux_SpZLf6Lw              Belly N Bao   \n",
       "2054  _TpRjqSg_MSm8Kh2-DcKng        Near & Far Camden   \n",
       "2063  IC1BAwfP-8Vt5SXujGFtug  Roxie Steak & Wine Cafe   \n",
       "\n",
       "                                     location   \n",
       "1716  200131 - Clarkson Street, Bethnal Green  \\\n",
       "2087     001036 - Crawford Street, Marylebone   \n",
       "2031  200190 - Queen's Circus, Battersea Park   \n",
       "2040   200016 - Castlehaven Road, Camden Town   \n",
       "2045   200016 - Castlehaven Road, Camden Town   \n",
       "2050   200016 - Castlehaven Road, Camden Town   \n",
       "455    002637 - Bermondsey Street, Bermondsey   \n",
       "2052   200016 - Castlehaven Road, Camden Town   \n",
       "2054   200016 - Castlehaven Road, Camden Town   \n",
       "2063           200217 - Disraeli Road, Putney   \n",
       "\n",
       "                                             categories  rating price  \n",
       "1716  [{'alias': 'cafes', 'title': 'Cafes'}, {'alias...     5.0        \n",
       "2087  [{'alias': 'hotdogs', 'title': 'Fast Food'}, {...     5.0     £  \n",
       "2031  [{'alias': 'pizza', 'title': 'Pizza'}, {'alias...     5.0     £  \n",
       "2040   [{'alias': 'vietnamese', 'title': 'Vietnamese'}]     5.0     £  \n",
       "2045  [{'alias': 'italian', 'title': 'Italian'}, {'a...     5.0        \n",
       "2050  [{'alias': 'streetvendors', 'title': 'Street V...     5.0        \n",
       "455   [{'alias': 'foodstands', 'title': 'Food Stands'}]     5.0        \n",
       "2052  [{'alias': 'taiwanese', 'title': 'Taiwanese'},...     5.0        \n",
       "2054  [{'alias': 'cocktailbars', 'title': 'Cocktail ...     5.0        \n",
       "2063       [{'alias': 'steak', 'title': 'Steakhouses'}]     5.0    ££  "
      ]
     },
     "execution_count": 151,
     "metadata": {},
     "output_type": "execute_result"
    }
   ],
   "source": [
    "# Sort restaurants by rating in descending order\n",
    "sorted_restaurants = yelp_restaurants_df.sort_values(by=['rating'], ascending=False)\n",
    "\n",
    "# Select the top 10 restaurants\n",
    "top_10_restaurants = sorted_restaurants.head(10)\n",
    "\n",
    "# Print or display the top 10 restaurants\n",
    "top_10_restaurants.head(10)\n"
   ]
  },
  {
   "cell_type": "code",
   "execution_count": null,
   "metadata": {},
   "outputs": [],
   "source": []
  }
 ],
 "metadata": {
  "kernelspec": {
   "display_name": "Python 3 (ipykernel)",
   "language": "python",
   "name": "python3"
  },
  "language_info": {
   "codemirror_mode": {
    "name": "ipython",
    "version": 3
   },
   "file_extension": ".py",
   "mimetype": "text/x-python",
   "name": "python",
   "nbconvert_exporter": "python",
   "pygments_lexer": "ipython3",
   "version": "3.11.1"
  }
 },
 "nbformat": 4,
 "nbformat_minor": 4
}
