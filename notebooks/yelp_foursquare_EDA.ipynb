{
 "cells": [
  {
   "cell_type": "code",
   "execution_count": 138,
   "metadata": {
    "tags": []
   },
   "outputs": [],
   "source": [
    "import requests\n",
    "import json\n",
    "import os\n",
    "import foursquare\n",
    "import pandas as pd\n",
    "from tqdm import tqdm\n",
    "import time\n",
    "from time import sleep"
   ]
  },
  {
   "cell_type": "markdown",
   "metadata": {},
   "source": [
    "# Foursquare\n",
    "\n",
    "### Send a request to Foursquare with a small radius (1000m) for all the bike stations in your city of choice. "
   ]
  },
  {
   "cell_type": "markdown",
   "metadata": {},
   "source": [
    "#### Step 1: Set code to review full API"
   ]
  },
  {
   "cell_type": "code",
   "execution_count": 129,
   "metadata": {
    "tags": []
   },
   "outputs": [],
   "source": [
    "# Setup Foursquare API credentials \n",
    "api_key = os.environ.get('FOURSQUARE_API_KEY')\n",
    "\n",
    "# Define the endpoint URL for the Foursqare request\n",
    "endpoint = \"https://api.foursquare.com/v3/places/search\"\n",
    "\n",
    "# Define the query parameters to include only the latitude and longitude fields\n",
    "def foursquare_query(latitude, longitude):\n",
    "    params = {\n",
    "        'll': f'{latitude},{longitude}', 'radius':'1000', 'query':'Restaurant,  Landmarks and Outdoors > Park'\n",
    "        }\n",
    "    #Headers specific to FourSquare - used to specify wanted metadata - not typically found under all APIs. Found under https://location.foursquare.com/developer/reference/authentication\n",
    "    headers = {\"Accept\": \"application/json\",\n",
    "        \"Authorization\": api_key\n",
    "        }\n",
    "\n",
    "    # Send an HTTP GET request to the endpoint URL with the query parameters\n",
    "    response = requests.get(endpoint, params=params, headers=headers)\n",
    "\n",
    "    # Get the JSON content from the response\n",
    "    json_content = response.json()\n",
    "\n",
    "    # Print out the entire JSON response to see catergory names\n",
    "    return json_content\n",
    "\n"
   ]
  },
  {
   "attachments": {},
   "cell_type": "markdown",
   "metadata": {},
   "source": [
    "#### Step 2: Retrieve Foursquare results"
   ]
  },
  {
   "cell_type": "code",
   "execution_count": 130,
   "metadata": {
    "tags": []
   },
   "outputs": [],
   "source": [
    "#Retrieve the Foursquare query results for a given latitude and longitude\n",
    "def bike_radius(latitude, longitude):\n",
    "    json_content = foursquare_query(latitude, longitude)\n",
    "    poi = json_content['results']\n",
    "    return json_content\n",
    "\n",
    "#extract the relevant information from the Foursquare query result and store it in a dictionary that is returned as a list.\n",
    "def bike_radius_info(latitude, longitude, location_name):\n",
    "    json_content = foursquare_query(latitude, longitude)\n",
    "    poi_list = []\n",
    "    for poi in json_content['results']:\n",
    "        poi_dict = {}\n",
    "        poi_dict['fsq_id'] = poi['fsq_id']\n",
    "        poi_dict['location_name'] = location_name\n",
    "        poi_dict['poi_type'] = [category['name'] for category in poi['categories']]\n",
    "        poi_list.append(poi_dict)\n",
    "    return poi_list"
   ]
  },
  {
   "attachments": {},
   "cell_type": "markdown",
   "metadata": {},
   "source": [
    "#### Step 3: Parse through data to retrieve point of interest (POI) details (Available from Foursquare - location, type)"
   ]
  },
  {
   "cell_type": "code",
   "execution_count": 139,
   "metadata": {
    "collapsed": true,
    "jupyter": {
     "outputs_hidden": true
    },
    "tags": []
   },
   "outputs": [
    {
     "name": "stderr",
     "output_type": "stream",
     "text": [
      "100%|██████████| 250/250 [05:59<00:00,  1.44s/it]\n"
     ]
    }
   ],
   "source": [
    "# read the file containing the locations\n",
    "bike_df = pd.read_csv('/Users/brittanyharding/LHL-Projects/Statistical-Modelling-with-Python/notebooks/London_CityBikes_Data.csv')\n",
    "\n",
    "rand_df = bike_df.sample(n=250)\n",
    "\n",
    "# extract the name, latitude, and longitude columns from the City Bike Data\n",
    "names = rand_df['name'].unique()\n",
    "latitudes = rand_df['latitude'].unique()\n",
    "longitudes = rand_df['longitude'].unique()\n",
    "\n",
    "\n",
    "# create an empty list to store the dictionaries\n",
    "data_list = []\n",
    "\n",
    "# loop through each location and call the bike_radius_info function\n",
    "for i in tqdm(range(len(latitudes))):\n",
    "    fsq_ids = bike_radius_info(latitudes[i], longitudes[i], names[i])\n",
    "    for fsq_id in fsq_ids:\n",
    "        data_list.append({'fsq_id': fsq_id['fsq_id'], 'location_name': fsq_id['location_name'], 'poi_type': fsq_id['poi_type']})\n",
    "    time.sleep(1) # add 1 second delay between each iteration"
   ]
  },
  {
   "attachments": {},
   "cell_type": "markdown",
   "metadata": {},
   "source": [
    "#### Step 4:  Put your parsed results into a DataFrame"
   ]
  },
  {
   "cell_type": "code",
   "execution_count": 140,
   "metadata": {},
   "outputs": [],
   "source": [
    "foursquare_poi_df = pd.DataFrame(data_list)"
   ]
  },
  {
   "cell_type": "markdown",
   "metadata": {},
   "source": [
    "# Yelp"
   ]
  },
  {
   "attachments": {},
   "cell_type": "markdown",
   "metadata": {},
   "source": [
    "### Send a request to Yelp with a small radius (1000m) for all the bike stations in your city of choice. "
   ]
  },
  {
   "attachments": {},
   "cell_type": "markdown",
   "metadata": {},
   "source": [
    "##### Set code to review full API for restaurants on Yelp"
   ]
  },
  {
   "cell_type": "code",
   "execution_count": 143,
   "metadata": {},
   "outputs": [],
   "source": [
    "# Setup Yelp API credentials \n",
    "api_key = os.environ.get('YELP_API_KEY')\n",
    "\n",
    "# Define the endpoint URL for the Yelp request\n",
    "endpoint = \"https://api.yelp.com/v3/businesses/search\"\n",
    "\n",
    "# Define the query parameters to include only the latitude and longitude fields\n",
    "def yelp_query(latitude, longitude):\n",
    "    params = {\n",
    "        'latitude': latitude , 'longitude': longitude, 'radius': 1000, 'term': 'restaurant'\n",
    "        }\n",
    "    #Headers specific to Yelp - used to specify wanted metadata - not typically found under all APIs.\n",
    "    headers = {'Authorization': f'Bearer {api_key}'}\n",
    "\n",
    "    # Send an HTTP GET request to the endpoint URL with the query parameters\n",
    "    response = requests.get(endpoint, params=params, headers=headers)\n",
    "\n",
    "    # Get the JSON content from the response\n",
    "    json_content = response.json()\n",
    "\n",
    "    # Print out the entire JSON response to see catergory names\n",
    "    return json_content"
   ]
  },
  {
   "attachments": {},
   "cell_type": "markdown",
   "metadata": {},
   "source": [
    "##### Parse through the response to get the POI on restaurants to retrieve details on restaurant name, location, rating, price, and classifacation"
   ]
  },
  {
   "cell_type": "code",
   "execution_count": 144,
   "metadata": {},
   "outputs": [],
   "source": [
    "#Retrieve the Yelp query results for a given latitude and longitude\n",
    "def bike_radius(latitude, longitude):\n",
    "    json_content = yelp_query(latitude, longitude)\n",
    "    poi = json_content['results']\n",
    "    return json_content\n",
    "\n",
    "#extract the relevant information from the Yelp query result and store it in a dictionary that is returned as a list.\n",
    "def bike_radius_info(latitude, longitude, name):\n",
    "    json_content = yelp_query(latitude, longitude)\n",
    "    poi_list = []\n",
    "    for poi in json_content['businesses']:\n",
    "        poi_dict = {}\n",
    "        poi_dict['id'] = poi['id']\n",
    "        poi_dict['location'] = name\n",
    "        poi_dict['categories'] = poi['categories']\n",
    "        poi_dict['rating'] = poi['rating']\n",
    "        poi_dict['name'] = poi['name']\n",
    "        try:\n",
    "            poi_dict['rating'] = poi['rating']\n",
    "        except:\n",
    "            poi_dict['rating'] = ''\n",
    "        try:\n",
    "            poi_dict['price'] = poi['price']\n",
    "        except:\n",
    "            poi_dict['price'] = ''\n",
    "        poi_list.append(poi_dict)\n",
    "    return poi_list"
   ]
  },
  {
   "attachments": {},
   "cell_type": "markdown",
   "metadata": {},
   "source": [
    "#### Run loop through CityBikes CSV file"
   ]
  },
  {
   "cell_type": "code",
   "execution_count": 145,
   "metadata": {},
   "outputs": [
    {
     "name": "stderr",
     "output_type": "stream",
     "text": [
      "100%|██████████| 250/250 [02:51<00:00,  1.45it/s]\n"
     ]
    }
   ],
   "source": [
    "# read the file containing the locations\n",
    "bike_df = pd.read_csv('/Users/brittanyharding/LHL-Projects/Statistical-Modelling-with-Python/notebooks/London_CityBikes_Data.csv')\n",
    "\n",
    "\n",
    "# extract the name, latitude, and longitude columns from the City Bike Data\n",
    "names = rand_df['name'].unique()\n",
    "latitudes = rand_df['latitude'].unique()\n",
    "longitudes = rand_df['longitude'].unique()\n",
    "\n",
    "\n",
    "# create an empty list to store the dictionaries\n",
    "yelp_restaurant_data_list = []\n",
    "\n",
    "# loop through each location and call the bike_radius_info function\n",
    "for i in tqdm(range(len(latitudes))):\n",
    "    id = bike_radius_info(latitudes[i], longitudes[i], names[i])\n",
    "    for id in id:\n",
    "        yelp_restaurant_data_list.append({'id': id['id'], 'name': id['name'], 'location': id['location'], 'categories': id['categories'], 'rating': id['rating'],'price': id['price']})\n",
    "        "
   ]
  },
  {
   "attachments": {},
   "cell_type": "markdown",
   "metadata": {},
   "source": [
    "##### Put your parsed results into a DataFrame"
   ]
  },
  {
   "cell_type": "code",
   "execution_count": 146,
   "metadata": {},
   "outputs": [],
   "source": [
    "yelp_restaurants_df = pd.DataFrame(yelp_restaurant_data_list)"
   ]
  },
  {
   "cell_type": "markdown",
   "metadata": {},
   "source": [
    "## Yelp Parks"
   ]
  },
  {
   "attachments": {},
   "cell_type": "markdown",
   "metadata": {},
   "source": [
    "##### Set code to review full API for parks on Yelp"
   ]
  },
  {
   "cell_type": "code",
   "execution_count": 147,
   "metadata": {},
   "outputs": [],
   "source": [
    "# Setup Yelp API credentials \n",
    "api_key = os.environ.get('YELP_API_KEY')\n",
    "\n",
    "# Define the endpoint URL for the Yelp request\n",
    "endpoint = \"https://api.yelp.com/v3/businesses/search\"\n",
    "\n",
    "# Define the query parameters to include only the latitude and longitude fields\n",
    "def yelp_query(latitude, longitude):\n",
    "    params = {\n",
    "        'latitude': latitude , 'longitude': longitude, 'radius': 1000, 'term': 'parks'\n",
    "        }\n",
    "    #Headers specific to Yelp - used to specify wanted metadata - not typically found under all APIs.\n",
    "    headers = {'Authorization': f'Bearer {api_key}'}\n",
    "\n",
    "    # Send an HTTP GET request to the endpoint URL with the query parameters\n",
    "    response = requests.get(endpoint, params=params, headers=headers)\n",
    "\n",
    "    # Get the JSON content from the response\n",
    "    json_content = response.json()\n",
    "\n",
    "    # Print out the entire JSON response to see catergory names\n",
    "    return json_content"
   ]
  },
  {
   "attachments": {},
   "cell_type": "markdown",
   "metadata": {},
   "source": [
    "##### Parse through the response to get the POI on parks to retrieve details on park name, location, rating, any associated price, and classifacation."
   ]
  },
  {
   "cell_type": "code",
   "execution_count": 148,
   "metadata": {},
   "outputs": [],
   "source": [
    "#Retrieve the Yelp query results for a given latitude and longitude\n",
    "def bike_radius(latitude, longitude):\n",
    "    json_content = yelp_query(latitude, longitude)\n",
    "    poi = json_content['results']\n",
    "    return json_content\n",
    "\n",
    "#extract the relevant information from the Yelp query result and store it in a dictionary that is returned as a list.\n",
    "def bike_radius_info(latitude, longitude, name):\n",
    "    json_content = yelp_query(latitude, longitude)\n",
    "    poi_list = []\n",
    "    for poi in json_content['businesses']:\n",
    "        poi_dict = {}\n",
    "        poi_dict['id'] = poi['id']\n",
    "        poi_dict['location'] = name\n",
    "        poi_dict['categories'] = poi['categories']\n",
    "        poi_dict['rating'] = poi['rating']\n",
    "        poi_dict['name'] = poi['name']\n",
    "        try:\n",
    "            poi_dict['rating'] = poi['rating']\n",
    "        except:\n",
    "            poi_dict['rating'] = ''\n",
    "        try:\n",
    "            poi_dict['price'] = poi['price']\n",
    "        except:\n",
    "            poi_dict['price'] = ''\n",
    "        poi_list.append(poi_dict)\n",
    "    return poi_list"
   ]
  },
  {
   "attachments": {},
   "cell_type": "markdown",
   "metadata": {},
   "source": [
    "#### Run loop through CityBikes CSV file"
   ]
  },
  {
   "cell_type": "code",
   "execution_count": 149,
   "metadata": {},
   "outputs": [
    {
     "name": "stderr",
     "output_type": "stream",
     "text": [
      "100%|██████████| 250/250 [02:16<00:00,  1.83it/s]\n"
     ]
    }
   ],
   "source": [
    "# read the file containing the locations\n",
    "bike_df = pd.read_csv('/Users/brittanyharding/LHL-Projects/Statistical-Modelling-with-Python/notebooks/London_CityBikes_Data.csv')\n",
    "\n",
    "\n",
    "# extract the name, latitude, and longitude columns from the City Bike Data\n",
    "names = rand_df['name'].unique()\n",
    "latitudes = rand_df['latitude'].unique()\n",
    "longitudes = rand_df['longitude'].unique()\n",
    "\n",
    "\n",
    "# create an empty list to store the dictionaries\n",
    "yelp_park_data_list = []\n",
    "\n",
    "# loop through each location and call the bike_radius_info function\n",
    "for i in tqdm(range(len(latitudes))):\n",
    "    id = bike_radius_info(latitudes[i], longitudes[i], names[i])\n",
    "    for id in id:\n",
    "        yelp_park_data_list.append({'id': id['id'], 'name': id['name'], 'location': id['location'], 'categories': id['categories'], 'rating': id['rating'],'price': id['price']})\n",
    "        "
   ]
  },
  {
   "cell_type": "markdown",
   "metadata": {},
   "source": [
    "#### Step 4:  Put your parsed results into a DataFrame"
   ]
  },
  {
   "cell_type": "code",
   "execution_count": 150,
   "metadata": {},
   "outputs": [],
   "source": [
    "yelp_parks_df = pd.DataFrame(yelp_park_data_list)"
   ]
  },
  {
   "cell_type": "markdown",
   "metadata": {},
   "source": [
    "# Comparing Results"
   ]
  },
  {
   "cell_type": "markdown",
   "metadata": {},
   "source": [
    "Which API provided you with more complete data? Provide an explanation. "
   ]
  },
  {
   "cell_type": "markdown",
   "metadata": {},
   "source": []
  },
  {
   "cell_type": "markdown",
   "metadata": {},
   "source": [
    "Get the top 10 restaurants according to their rating"
   ]
  },
  {
   "cell_type": "code",
   "execution_count": null,
   "metadata": {},
   "outputs": [],
   "source": []
  }
 ],
 "metadata": {
  "kernelspec": {
   "display_name": "Python 3 (ipykernel)",
   "language": "python",
   "name": "python3"
  },
  "language_info": {
   "codemirror_mode": {
    "name": "ipython",
    "version": 3
   },
   "file_extension": ".py",
   "mimetype": "text/x-python",
   "name": "python",
   "nbconvert_exporter": "python",
   "pygments_lexer": "ipython3",
   "version": "3.11.1"
  }
 },
 "nbformat": 4,
 "nbformat_minor": 4
}
