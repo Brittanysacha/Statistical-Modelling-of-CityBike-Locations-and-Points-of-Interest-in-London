{
 "cells": [
  {
   "attachments": {},
   "cell_type": "markdown",
   "metadata": {},
   "source": [
    "### Join the data from Part 1 with the data from Part 2 to create a new dataframe."
   ]
  },
  {
   "cell_type": "markdown",
   "metadata": {},
   "source": [
    "#### Import libraries"
   ]
  },
  {
   "cell_type": "code",
   "execution_count": 1,
   "metadata": {},
   "outputs": [],
   "source": [
    "import pandas as pd\n",
    "import sqlite3\n",
    "import os\n",
    "import matplotlib.pyplot as plt\n",
    "import seaborn as sns\n",
    "from scipy import stats"
   ]
  },
  {
   "attachments": {},
   "cell_type": "markdown",
   "metadata": {},
   "source": [
    "#### Step 1: Import CSV files from CityBikes, Yelp, and FourSquare"
   ]
  },
  {
   "cell_type": "code",
   "execution_count": 2,
   "metadata": {},
   "outputs": [],
   "source": [
    "# load CityBikes dataframe\n",
    "city_bikes_df = pd.read_csv('/Users/brittanyharding/LHL-Projects/Statistical-Modelling-with-Python/data/CSV_files/London_CityBikes_Data.csv')\n",
    "\n",
    "# load Yelp parks dataframe\n",
    "yelp_parks_df = pd.read_csv('/Users/brittanyharding/LHL-Projects/Statistical-Modelling-with-Python/data/CSV_files/yelp_parks_df.csv')\n",
    "\n",
    "# load Yelp restaurants dataframe\n",
    "yelp_restaurants_df = pd.read_csv('/Users/brittanyharding/LHL-Projects/Statistical-Modelling-with-Python/data/CSV_files/yelp_restaurants_df.csv')\n",
    "\n",
    "# load Foursquare parks dataframe\n",
    "foursquare_parks_df = pd.read_csv('/Users/brittanyharding/LHL-Projects/Statistical-Modelling-with-Python/data/CSV_files/foursquare_parks_df.csv')\n",
    "\n",
    "# load FourSquare restaurants dataframe\n",
    "foursquare_restaurants_df = pd.read_csv('/Users/brittanyharding/LHL-Projects/Statistical-Modelling-with-Python/data/CSV_files/foursquare_restaurants_df.csv')\n",
    "\n",
    "\n"
   ]
  },
  {
   "attachments": {},
   "cell_type": "markdown",
   "metadata": {},
   "source": [
    "### Step 2: Merge DataFrames Together"
   ]
  },
  {
   "cell_type": "code",
   "execution_count": 4,
   "metadata": {},
   "outputs": [],
   "source": [
    "#rename CityBikes 'name' column to 'location' to be able to perform merge\n",
    "city_bikes_df = city_bikes_df.rename(columns={'name': 'location'})\n",
    "\n",
    "#rename FourSquare Parks 'name' column to 'location' to be able to perform merge\n",
    "foursquare_parks_df = foursquare_parks_df.rename(columns={'location_name': 'location'})\n",
    "\n",
    "#rename FourSquare Restaurants 'name' column to 'location' to be able to perform merge\n",
    "foursquare_restaurants_df = foursquare_restaurants_df.rename(columns={'location_name': 'location'})"
   ]
  },
  {
   "cell_type": "code",
   "execution_count": 5,
   "metadata": {},
   "outputs": [],
   "source": [
    "# merge Yelp DataFrames based on the location column\n",
    "merged_yelp_df = pd.concat([yelp_parks_df, yelp_restaurants_df], axis=0)\n",
    "\n",
    "# merge FourSquare DataFrames based on the location column\n",
    "merged_foursquare_df = pd.concat([foursquare_parks_df, foursquare_restaurants_df], axis=0)\n",
    "\n",
    "# merge Foursquare and CityBikes DataFrames based on the location column (left-join)\n",
    "merged_yelp_citybikes = pd.merge(merged_yelp_df, city_bikes_df, on='location', how='left')\n",
    "\n",
    "# merge Foursquare and CityBikes DataFrames based on the location column (left-join)\n",
    "merged_foursquare_citybikes = pd.merge(merged_foursquare_df, city_bikes_df, on='location', how='left')"
   ]
  },
  {
   "cell_type": "code",
   "execution_count": 6,
   "metadata": {},
   "outputs": [],
   "source": [
    "# #Removing id and fsq_id, as they do not add to the data\n",
    "merged_yelp_citybikes = merged_yelp_citybikes.drop('id', axis=1)\n",
    "merged_foursquare_citybikes = merged_foursquare_citybikes.drop('fsq_id', axis=1)\n",
    "\n",
    "#Adding Type descriptive labels to differentiate the data when combined (as categories and poi type does not provide uniform type names)\n",
    "yelp_parks_df['Type'] = 'Park'\n",
    "yelp_restaurants_df['Type'] = 'Restaurant'\n",
    "foursquare_restaurants_df['Type'] = 'Restaurant'\n",
    "foursquare_parks_df['Type'] = 'Park'\n"
   ]
  },
  {
   "cell_type": "code",
   "execution_count": 7,
   "metadata": {},
   "outputs": [],
   "source": [
    "merged_yelp_citybikes.to_csv('merged_yelp_citybikes.csv', index=False)\n",
    "\n",
    "# export foursquare/citybikes DataFrame to Csv file\n",
    "merged_foursquare_citybikes.to_csv('merged_foursquare_citybikes.csv', index=False)\n",
    "\n",
    "# load merged_yelp_citybikes dataframe\n",
    "yelp_citybikes = pd.read_csv('/Users/brittanyharding/LHL-Projects/Statistical-Modelling-with-Python/notebooks/merged_yelp_citybikes.csv')\n",
    "\n",
    "# load foursquare/citybikes DataFrame parks dataframe\n",
    "foursquare_citybikes = pd.read_csv('/Users/brittanyharding/LHL-Projects/Statistical-Modelling-with-Python/notebooks/merged_foursquare_citybikes.csv')"
   ]
  },
  {
   "attachments": {},
   "cell_type": "markdown",
   "metadata": {},
   "source": [
    "Provide a visualization that you used as part of your EDA process. Explain the initial pattern or relationship you discoved through this visualization. "
   ]
  },
  {
   "attachments": {},
   "cell_type": "markdown",
   "metadata": {},
   "source": [
    "### EDA Stats for Yelp CityBikes Data"
   ]
  },
  {
   "attachments": {},
   "cell_type": "markdown",
   "metadata": {},
   "source": [
    "While using regression analysis can be a powerful tool for analyzing relationships between variables, it's important to have sufficient and appropriate data to work with. Therefore, I made the decision to drop the results pulled from the FourSquare API data from my analysis. In this case, without access to important information such as ratings, prices, IDs, and categories from the FourSquare API, attempting to perform regression analysis would not be effective or informative. Without these key pieces of data, any regression model would be incomplete and would likely provide misleading or inaccurate results. As a result, it was a wise decision to drop the FourSquare data and focus on other sources of information for the project."
   ]
  },
  {
   "cell_type": "code",
   "execution_count": 8,
   "metadata": {},
   "outputs": [
    {
     "data": {
      "text/html": [
       "<div>\n",
       "<style scoped>\n",
       "    .dataframe tbody tr th:only-of-type {\n",
       "        vertical-align: middle;\n",
       "    }\n",
       "\n",
       "    .dataframe tbody tr th {\n",
       "        vertical-align: top;\n",
       "    }\n",
       "\n",
       "    .dataframe thead th {\n",
       "        text-align: right;\n",
       "    }\n",
       "</style>\n",
       "<table border=\"1\" class=\"dataframe\">\n",
       "  <thead>\n",
       "    <tr style=\"text-align: right;\">\n",
       "      <th></th>\n",
       "      <th>name</th>\n",
       "      <th>location</th>\n",
       "      <th>categories</th>\n",
       "      <th>rating</th>\n",
       "      <th>price</th>\n",
       "      <th>Type</th>\n",
       "      <th>latitude</th>\n",
       "      <th>longitude</th>\n",
       "      <th>free_bikes</th>\n",
       "    </tr>\n",
       "  </thead>\n",
       "  <tbody>\n",
       "    <tr>\n",
       "      <th>0</th>\n",
       "      <td>Leicester Square Gardens</td>\n",
       "      <td>001163 - Wardour Street, Soho</td>\n",
       "      <td>[{'alias': 'landmarks', 'title': 'Landmarks &amp; ...</td>\n",
       "      <td>3.5</td>\n",
       "      <td>NaN</td>\n",
       "      <td>Park</td>\n",
       "      <td>51.512515</td>\n",
       "      <td>-0.133202</td>\n",
       "      <td>16</td>\n",
       "    </tr>\n",
       "    <tr>\n",
       "      <th>1</th>\n",
       "      <td>Leicester Square</td>\n",
       "      <td>001163 - Wardour Street, Soho</td>\n",
       "      <td>[{'alias': 'landmarks', 'title': 'Landmarks &amp; ...</td>\n",
       "      <td>4.0</td>\n",
       "      <td>NaN</td>\n",
       "      <td>Park</td>\n",
       "      <td>51.512515</td>\n",
       "      <td>-0.133202</td>\n",
       "      <td>16</td>\n",
       "    </tr>\n",
       "    <tr>\n",
       "      <th>2</th>\n",
       "      <td>Allen Gardens</td>\n",
       "      <td>200003 - Cheshire Street, Bethnal Green</td>\n",
       "      <td>[{'alias': 'parks', 'title': 'Parks'}]</td>\n",
       "      <td>5.0</td>\n",
       "      <td>NaN</td>\n",
       "      <td>Park</td>\n",
       "      <td>51.523880</td>\n",
       "      <td>-0.065076</td>\n",
       "      <td>18</td>\n",
       "    </tr>\n",
       "    <tr>\n",
       "      <th>3</th>\n",
       "      <td>Weavers Fields</td>\n",
       "      <td>200003 - Cheshire Street, Bethnal Green</td>\n",
       "      <td>[{'alias': 'parks', 'title': 'Parks'}]</td>\n",
       "      <td>4.0</td>\n",
       "      <td>NaN</td>\n",
       "      <td>Park</td>\n",
       "      <td>51.523880</td>\n",
       "      <td>-0.065076</td>\n",
       "      <td>18</td>\n",
       "    </tr>\n",
       "    <tr>\n",
       "      <th>4</th>\n",
       "      <td>Myddelton Square Park</td>\n",
       "      <td>001104 - Claremont Square, Angel</td>\n",
       "      <td>[{'alias': 'parks', 'title': 'Parks'}]</td>\n",
       "      <td>3.0</td>\n",
       "      <td>NaN</td>\n",
       "      <td>Park</td>\n",
       "      <td>51.531667</td>\n",
       "      <td>-0.109915</td>\n",
       "      <td>11</td>\n",
       "    </tr>\n",
       "    <tr>\n",
       "      <th>5</th>\n",
       "      <td>St George's Gardens</td>\n",
       "      <td>001019 - Ampton Street , Clerkenwell</td>\n",
       "      <td>[{'alias': 'parks', 'title': 'Parks'}]</td>\n",
       "      <td>5.0</td>\n",
       "      <td>NaN</td>\n",
       "      <td>Park</td>\n",
       "      <td>51.527281</td>\n",
       "      <td>-0.118295</td>\n",
       "      <td>6</td>\n",
       "    </tr>\n",
       "    <tr>\n",
       "      <th>6</th>\n",
       "      <td>Argyle Square</td>\n",
       "      <td>001019 - Ampton Street , Clerkenwell</td>\n",
       "      <td>[{'alias': 'parks', 'title': 'Parks'}]</td>\n",
       "      <td>3.0</td>\n",
       "      <td>NaN</td>\n",
       "      <td>Park</td>\n",
       "      <td>51.527281</td>\n",
       "      <td>-0.118295</td>\n",
       "      <td>6</td>\n",
       "    </tr>\n",
       "    <tr>\n",
       "      <th>7</th>\n",
       "      <td>Soho Square</td>\n",
       "      <td>001052 - Soho Square , Soho</td>\n",
       "      <td>[{'alias': 'parks', 'title': 'Parks'}]</td>\n",
       "      <td>3.5</td>\n",
       "      <td>NaN</td>\n",
       "      <td>Park</td>\n",
       "      <td>51.515631</td>\n",
       "      <td>-0.132329</td>\n",
       "      <td>54</td>\n",
       "    </tr>\n",
       "    <tr>\n",
       "      <th>8</th>\n",
       "      <td>St Martin's Gardens</td>\n",
       "      <td>200026 - Greenland Road, Camden Town</td>\n",
       "      <td>[{'alias': 'parks', 'title': 'Parks'}]</td>\n",
       "      <td>5.0</td>\n",
       "      <td>NaN</td>\n",
       "      <td>Park</td>\n",
       "      <td>51.539099</td>\n",
       "      <td>-0.141728</td>\n",
       "      <td>35</td>\n",
       "    </tr>\n",
       "    <tr>\n",
       "      <th>9</th>\n",
       "      <td>Argyle Square</td>\n",
       "      <td>001013 - St. Chad's Street, King's Cross</td>\n",
       "      <td>[{'alias': 'parks', 'title': 'Parks'}]</td>\n",
       "      <td>3.0</td>\n",
       "      <td>NaN</td>\n",
       "      <td>Park</td>\n",
       "      <td>51.530059</td>\n",
       "      <td>-0.120974</td>\n",
       "      <td>13</td>\n",
       "    </tr>\n",
       "  </tbody>\n",
       "</table>\n",
       "</div>"
      ],
      "text/plain": [
       "                       name                                  location   \n",
       "0  Leicester Square Gardens             001163 - Wardour Street, Soho  \\\n",
       "1          Leicester Square             001163 - Wardour Street, Soho   \n",
       "2             Allen Gardens   200003 - Cheshire Street, Bethnal Green   \n",
       "3            Weavers Fields   200003 - Cheshire Street, Bethnal Green   \n",
       "4     Myddelton Square Park          001104 - Claremont Square, Angel   \n",
       "5       St George's Gardens      001019 - Ampton Street , Clerkenwell   \n",
       "6             Argyle Square      001019 - Ampton Street , Clerkenwell   \n",
       "7               Soho Square               001052 - Soho Square , Soho   \n",
       "8       St Martin's Gardens      200026 - Greenland Road, Camden Town   \n",
       "9             Argyle Square  001013 - St. Chad's Street, King's Cross   \n",
       "\n",
       "                                          categories  rating price  Type   \n",
       "0  [{'alias': 'landmarks', 'title': 'Landmarks & ...     3.5   NaN  Park  \\\n",
       "1  [{'alias': 'landmarks', 'title': 'Landmarks & ...     4.0   NaN  Park   \n",
       "2             [{'alias': 'parks', 'title': 'Parks'}]     5.0   NaN  Park   \n",
       "3             [{'alias': 'parks', 'title': 'Parks'}]     4.0   NaN  Park   \n",
       "4             [{'alias': 'parks', 'title': 'Parks'}]     3.0   NaN  Park   \n",
       "5             [{'alias': 'parks', 'title': 'Parks'}]     5.0   NaN  Park   \n",
       "6             [{'alias': 'parks', 'title': 'Parks'}]     3.0   NaN  Park   \n",
       "7             [{'alias': 'parks', 'title': 'Parks'}]     3.5   NaN  Park   \n",
       "8             [{'alias': 'parks', 'title': 'Parks'}]     5.0   NaN  Park   \n",
       "9             [{'alias': 'parks', 'title': 'Parks'}]     3.0   NaN  Park   \n",
       "\n",
       "    latitude  longitude  free_bikes  \n",
       "0  51.512515  -0.133202          16  \n",
       "1  51.512515  -0.133202          16  \n",
       "2  51.523880  -0.065076          18  \n",
       "3  51.523880  -0.065076          18  \n",
       "4  51.531667  -0.109915          11  \n",
       "5  51.527281  -0.118295           6  \n",
       "6  51.527281  -0.118295           6  \n",
       "7  51.515631  -0.132329          54  \n",
       "8  51.539099  -0.141728          35  \n",
       "9  51.530059  -0.120974          13  "
      ]
     },
     "execution_count": 8,
     "metadata": {},
     "output_type": "execute_result"
    }
   ],
   "source": [
    "# print first 5 rows of the data\n",
    "yelp_citybikes.head(10)"
   ]
  },
  {
   "cell_type": "code",
   "execution_count": 9,
   "metadata": {},
   "outputs": [
    {
     "name": "stdout",
     "output_type": "stream",
     "text": [
      "<class 'pandas.core.frame.DataFrame'>\n",
      "RangeIndex: 3572 entries, 0 to 3571\n",
      "Data columns (total 9 columns):\n",
      " #   Column      Non-Null Count  Dtype  \n",
      "---  ------      --------------  -----  \n",
      " 0   name        3572 non-null   object \n",
      " 1   location    3572 non-null   object \n",
      " 2   categories  3572 non-null   object \n",
      " 3   rating      3572 non-null   float64\n",
      " 4   price       2300 non-null   object \n",
      " 5   Type        3572 non-null   object \n",
      " 6   latitude    3572 non-null   float64\n",
      " 7   longitude   3572 non-null   float64\n",
      " 8   free_bikes  3572 non-null   int64  \n",
      "dtypes: float64(3), int64(1), object(5)\n",
      "memory usage: 251.3+ KB\n",
      "None\n"
     ]
    }
   ],
   "source": [
    "# print basic info about the data\n",
    "print(yelp_citybikes.info())"
   ]
  },
  {
   "cell_type": "code",
   "execution_count": 10,
   "metadata": {},
   "outputs": [
    {
     "name": "stdout",
     "output_type": "stream",
     "text": [
      "            rating     latitude    longitude   free_bikes\n",
      "count  3572.000000  3572.000000  3572.000000  3572.000000\n",
      "mean      3.809490    51.507356    -0.136093    14.034155\n",
      "std       0.984991     0.018562     0.049115     9.528037\n",
      "min       0.000000    51.456821    -0.229117     0.000000\n",
      "25%       3.500000    51.495593    -0.174411     6.000000\n",
      "50%       4.000000    51.508103    -0.137044    12.000000\n",
      "75%       4.500000    51.521588    -0.106824    20.000000\n",
      "max       5.000000    51.546805    -0.006990    63.000000\n"
     ]
    }
   ],
   "source": [
    "# print statistical summary of the data\n",
    "print(yelp_citybikes.describe())"
   ]
  },
  {
   "attachments": {},
   "cell_type": "markdown",
   "metadata": {},
   "source": [
    "### EDA Stats for Foursquare CityBikes Data"
   ]
  },
  {
   "cell_type": "code",
   "execution_count": 16,
   "metadata": {},
   "outputs": [
    {
     "data": {
      "text/html": [
       "<div>\n",
       "<style scoped>\n",
       "    .dataframe tbody tr th:only-of-type {\n",
       "        vertical-align: middle;\n",
       "    }\n",
       "\n",
       "    .dataframe tbody tr th {\n",
       "        vertical-align: top;\n",
       "    }\n",
       "\n",
       "    .dataframe thead th {\n",
       "        text-align: right;\n",
       "    }\n",
       "</style>\n",
       "<table border=\"1\" class=\"dataframe\">\n",
       "  <thead>\n",
       "    <tr style=\"text-align: right;\">\n",
       "      <th></th>\n",
       "      <th>location</th>\n",
       "      <th>name</th>\n",
       "      <th>poi_type</th>\n",
       "      <th>rating</th>\n",
       "      <th>price</th>\n",
       "      <th>Type</th>\n",
       "      <th>latitude</th>\n",
       "      <th>longitude</th>\n",
       "      <th>free_bikes</th>\n",
       "    </tr>\n",
       "  </thead>\n",
       "  <tbody>\n",
       "    <tr>\n",
       "      <th>0</th>\n",
       "      <td>003486 - St. Luke's Church, Chelsea</td>\n",
       "      <td>St Luke's Garden</td>\n",
       "      <td>['Park']</td>\n",
       "      <td>NaN</td>\n",
       "      <td>NaN</td>\n",
       "      <td>Park</td>\n",
       "      <td>51.489717</td>\n",
       "      <td>-0.170194</td>\n",
       "      <td>17</td>\n",
       "    </tr>\n",
       "    <tr>\n",
       "      <th>1</th>\n",
       "      <td>003486 - St. Luke's Church, Chelsea</td>\n",
       "      <td>Lennox Gardens</td>\n",
       "      <td>['Park']</td>\n",
       "      <td>NaN</td>\n",
       "      <td>NaN</td>\n",
       "      <td>Park</td>\n",
       "      <td>51.489717</td>\n",
       "      <td>-0.170194</td>\n",
       "      <td>17</td>\n",
       "    </tr>\n",
       "    <tr>\n",
       "      <th>2</th>\n",
       "      <td>003486 - St. Luke's Church, Chelsea</td>\n",
       "      <td>Cadogan Square Small Garden Limited</td>\n",
       "      <td>['Property Management Office', 'Real Estate Ag...</td>\n",
       "      <td>NaN</td>\n",
       "      <td>NaN</td>\n",
       "      <td>Park</td>\n",
       "      <td>51.489717</td>\n",
       "      <td>-0.170194</td>\n",
       "      <td>17</td>\n",
       "    </tr>\n",
       "    <tr>\n",
       "      <th>3</th>\n",
       "      <td>003486 - St. Luke's Church, Chelsea</td>\n",
       "      <td>Markham Square</td>\n",
       "      <td>['Park']</td>\n",
       "      <td>NaN</td>\n",
       "      <td>NaN</td>\n",
       "      <td>Park</td>\n",
       "      <td>51.489717</td>\n",
       "      <td>-0.170194</td>\n",
       "      <td>17</td>\n",
       "    </tr>\n",
       "    <tr>\n",
       "      <th>4</th>\n",
       "      <td>003486 - St. Luke's Church, Chelsea</td>\n",
       "      <td>Tedworth Square</td>\n",
       "      <td>['Park']</td>\n",
       "      <td>NaN</td>\n",
       "      <td>NaN</td>\n",
       "      <td>Park</td>\n",
       "      <td>51.489717</td>\n",
       "      <td>-0.170194</td>\n",
       "      <td>17</td>\n",
       "    </tr>\n",
       "  </tbody>\n",
       "</table>\n",
       "</div>"
      ],
      "text/plain": [
       "                              location                                 name   \n",
       "0  003486 - St. Luke's Church, Chelsea                     St Luke's Garden  \\\n",
       "1  003486 - St. Luke's Church, Chelsea                       Lennox Gardens   \n",
       "2  003486 - St. Luke's Church, Chelsea  Cadogan Square Small Garden Limited   \n",
       "3  003486 - St. Luke's Church, Chelsea                       Markham Square   \n",
       "4  003486 - St. Luke's Church, Chelsea                      Tedworth Square   \n",
       "\n",
       "                                            poi_type  rating  price  Type   \n",
       "0                                           ['Park']     NaN    NaN  Park  \\\n",
       "1                                           ['Park']     NaN    NaN  Park   \n",
       "2  ['Property Management Office', 'Real Estate Ag...     NaN    NaN  Park   \n",
       "3                                           ['Park']     NaN    NaN  Park   \n",
       "4                                           ['Park']     NaN    NaN  Park   \n",
       "\n",
       "    latitude  longitude  free_bikes  \n",
       "0  51.489717  -0.170194          17  \n",
       "1  51.489717  -0.170194          17  \n",
       "2  51.489717  -0.170194          17  \n",
       "3  51.489717  -0.170194          17  \n",
       "4  51.489717  -0.170194          17  "
      ]
     },
     "execution_count": 16,
     "metadata": {},
     "output_type": "execute_result"
    }
   ],
   "source": [
    "# print first 5 rows of the data\n",
    "foursquare_citybikes.head(5)"
   ]
  },
  {
   "cell_type": "code",
   "execution_count": 12,
   "metadata": {},
   "outputs": [
    {
     "name": "stdout",
     "output_type": "stream",
     "text": [
      "<class 'pandas.core.frame.DataFrame'>\n",
      "RangeIndex: 5938 entries, 0 to 5937\n",
      "Data columns (total 9 columns):\n",
      " #   Column      Non-Null Count  Dtype  \n",
      "---  ------      --------------  -----  \n",
      " 0   location    5938 non-null   object \n",
      " 1   name        5938 non-null   object \n",
      " 2   poi_type    5938 non-null   object \n",
      " 3   rating      0 non-null      float64\n",
      " 4   price       0 non-null      float64\n",
      " 5   Type        5938 non-null   object \n",
      " 6   latitude    5938 non-null   float64\n",
      " 7   longitude   5938 non-null   float64\n",
      " 8   free_bikes  5938 non-null   int64  \n",
      "dtypes: float64(4), int64(1), object(4)\n",
      "memory usage: 417.6+ KB\n",
      "None\n"
     ]
    }
   ],
   "source": [
    "# print basic info about the data\n",
    "print(foursquare_citybikes.info())"
   ]
  },
  {
   "cell_type": "code",
   "execution_count": 13,
   "metadata": {},
   "outputs": [
    {
     "name": "stdout",
     "output_type": "stream",
     "text": [
      "       rating  price     latitude    longitude   free_bikes\n",
      "count     0.0    0.0  5938.000000  5938.000000  5938.000000\n",
      "mean      NaN    NaN    51.506871    -0.130733    13.509768\n",
      "std       NaN    NaN     0.019537     0.053287     9.218018\n",
      "min       NaN    NaN    51.454753    -0.229117     0.000000\n",
      "25%       NaN    NaN    51.493985    -0.173797     6.000000\n",
      "50%       NaN    NaN    51.508622    -0.132140    12.000000\n",
      "75%       NaN    NaN    51.521564    -0.094475    19.000000\n",
      "max       NaN    NaN    51.549369    -0.006990    63.000000\n"
     ]
    }
   ],
   "source": [
    "# print statistical summary of the data\n",
    "print(foursquare_citybikes.describe())"
   ]
  },
  {
   "cell_type": "code",
   "execution_count": 17,
   "metadata": {},
   "outputs": [],
   "source": [
    "#At this time I made the decision to drop the FourSquare rating and price columns, as API retrieval had brought back no data, despite following Foursquare specific API rules.\n",
    "# #Removing id and fsq_id, as they do not add to the data\n",
    "foursquare_citybikes = foursquare_citybikes.drop('price', axis=1)\n",
    "foursquare_citybikes = foursquare_citybikes.drop('rating', axis=1)"
   ]
  },
  {
   "cell_type": "code",
   "execution_count": 20,
   "metadata": {},
   "outputs": [
    {
     "name": "stdout",
     "output_type": "stream",
     "text": [
      "Number of Parks: 2150\n",
      "Number of Restaurants: 2777\n"
     ]
    }
   ],
   "source": [
    "# Count to see how many parks and restaurants\n",
    "count = foursquare_citybikes['poi_type'].str.count('Park').sum()\n",
    "print('Number of Parks:', count)\n",
    "\n",
    "count = foursquare_citybikes['poi_type'].str.count('Restaurant').sum()\n",
    "print('Number of Restaurants:', count)\n"
   ]
  },
  {
   "cell_type": "markdown",
   "metadata": {},
   "source": [
    "# Database"
   ]
  },
  {
   "cell_type": "markdown",
   "metadata": {},
   "source": [
    "Put all your results in an SQLite3 database (remember, SQLite stores its databases as files in your local machine - make sure to create your database in your project's data/ directory!)"
   ]
  },
  {
   "cell_type": "code",
   "execution_count": null,
   "metadata": {},
   "outputs": [],
   "source": []
  },
  {
   "cell_type": "markdown",
   "metadata": {},
   "source": [
    "Look at the data before and after the join to validate your data."
   ]
  },
  {
   "cell_type": "code",
   "execution_count": null,
   "metadata": {},
   "outputs": [],
   "source": []
  }
 ],
 "metadata": {
  "kernelspec": {
   "display_name": "Python 3",
   "language": "python",
   "name": "python3"
  },
  "language_info": {
   "codemirror_mode": {
    "name": "ipython",
    "version": 3
   },
   "file_extension": ".py",
   "mimetype": "text/x-python",
   "name": "python",
   "nbconvert_exporter": "python",
   "pygments_lexer": "ipython3",
   "version": "3.11.1"
  }
 },
 "nbformat": 4,
 "nbformat_minor": 4
}
