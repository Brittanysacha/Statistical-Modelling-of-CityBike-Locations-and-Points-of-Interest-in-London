{
 "cells": [
  {
   "cell_type": "markdown",
   "metadata": {},
   "source": [
    "Build a regression model."
   ]
  },
  {
   "cell_type": "code",
   "execution_count": null,
   "metadata": {},
   "outputs": [],
   "source": [
    "import pandas as pd\n",
    "import numpy as np\n",
    "import matplotlib.pyplot as plt\n",
    "import statsmodels.api as sm\n",
    "\n",
    "# Read in CityBike and Yelp data\n",
    "citybike_df = pd.read_csv('citybike_data.csv')\n",
    "yelp_parks_df = pd.read_csv('yelp_parks_data.csv')\n",
    "\n",
    "# Calculate distance from each CityBike location to each Yelp park\n",
    "distances = []\n",
    "for bike_loc in citybike_df[['Latitude', 'Longitude']].values:\n",
    "    for park_loc in yelp_parks_df[['Latitude', 'Longitude']].values:\n",
    "        dist = np.sqrt((bike_loc[0]-park_loc[0])**2 + (bike_loc[1]-park_loc[1])**2)\n",
    "        distances.append(dist)\n",
    "yelp_parks_df['Distance'] = distances\n",
    "\n",
    "# Filter Yelp parks within 1000m radius of each CityBike location\n",
    "yelp_parks_df = yelp_parks_df[yelp_parks_df['Distance']<=1000]\n",
    "\n",
    "# Calculate number of parks within 1000m radius of each CityBike location\n",
    "num_parks_per_location_yelp = yelp_parks_df.groupby(['location'])['Type'].count().reset_index(name='num_parks')\n",
    "\n",
    "# Plot bar chart\n",
    "plt.figure(figsize=(8,5))\n",
    "plt.bar(num_parks_per_location_yelp['location'], num_parks_per_location_yelp['num_parks'])\n",
    "plt.xticks(rotation=90)\n",
    "plt.xlabel('Region')\n",
    "plt.ylabel('Number of Parks')\n",
    "plt.title('Number of Parks per Region (Yelp data)')\n",
    "plt.show()\n",
    "\n",
    "# Build regression model\n",
    "X = citybike_df['Population']\n",
    "y = num_parks_per_location_yelp['num_parks']\n",
    "X = sm.add_constant(X)\n",
    "model = sm.OLS(y, X).fit()\n",
    "print(model.summary())\n"
   ]
  },
  {
   "cell_type": "markdown",
   "metadata": {},
   "source": [
    "Provide model output and an interpretation of the results. "
   ]
  },
  {
   "cell_type": "code",
   "execution_count": null,
   "metadata": {},
   "outputs": [],
   "source": []
  },
  {
   "cell_type": "markdown",
   "metadata": {},
   "source": [
    "# Stretch"
   ]
  },
  {
   "cell_type": "markdown",
   "metadata": {},
   "source": [
    "How can you turn the regression model into a classification model?"
   ]
  },
  {
   "cell_type": "code",
   "execution_count": null,
   "metadata": {},
   "outputs": [],
   "source": []
  }
 ],
 "metadata": {
  "kernelspec": {
   "display_name": "Python 3",
   "language": "python",
   "name": "python3"
  },
  "language_info": {
   "codemirror_mode": {
    "name": "ipython",
    "version": 3
   },
   "file_extension": ".py",
   "mimetype": "text/x-python",
   "name": "python",
   "nbconvert_exporter": "python",
   "pygments_lexer": "ipython3",
   "version": "3.8.5"
  }
 },
 "nbformat": 4,
 "nbformat_minor": 4
}
