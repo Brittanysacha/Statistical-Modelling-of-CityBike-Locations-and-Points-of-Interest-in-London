{
 "cells": [
  {
   "cell_type": "code",
   "execution_count": 1,
   "metadata": {},
   "outputs": [],
   "source": [
    "import requests\n",
    "import json\n",
    "import os\n",
    "import foursquare\n",
    "import pandas as pd\n",
    "from tqdm import tqdm\n",
    "\n",
    "\n",
    "# Setup Foursquare API credentials \n",
    "api_key = os.environ.get('FOURSQUARE_API_KEY')\n",
    "\n",
    "# Define the endpoint URL for the Foursqare request\n",
    "endpoint = \"https://api.foursquare.com/v3/places/search\"\n",
    "\n",
    "# Define the query parameters to include only the latitude and longitude fields\n",
    "def foursquare_query(latitude, longitude, names):\n",
    "    params = {\n",
    "        'll': f'{latitude},{longitude}', 'radius':'1000'\n",
    "        }\n",
    "    #Headers specific to FourSquare - used to specify wanted metadata - not typically found under all APIs. Found under https://location.foursquare.com/developer/reference/authentication\n",
    "    headers = {\n",
    "        \"Accept\": \"application/json\",\n",
    "        \"Authorization\": api_key\n",
    "        }\n",
    "\n",
    "    # Send an HTTP GET request to the endpoint URL with the query parameters\n",
    "    response = requests.get(endpoint, params=params, headers=headers)\n",
    "\n",
    "    # Get the JSON content from the response\n",
    "    json_content = response.json()\n",
    "\n",
    "    return json_content"
   ]
  },
  {
   "cell_type": "code",
   "execution_count": 2,
   "metadata": {},
   "outputs": [],
   "source": [
    "# Extract the relevant information from the Foursquare query result and store it in a dictionary that is returned as a list.\n",
    "def bike_radius_info(latitude, longitude, location_name):\n",
    "    json_content = foursquare_query(latitude, longitude)\n",
    "    poi_list = []\n",
    "    for poi in json_content['response']['groups'][0]['items']:\n",
    "        poi_dict = {}\n",
    "        poi_dict['name'] = poi['venue']['name']\n",
    "        poi_dict['address'] = ', '.join(poi['venue']['location'].get('formattedAddress', []))\n",
    "        poi_dict['fsq_id'] = poi['venue']['id']\n",
    "\n",
    "        # Get the venue details from the Foursquare API\n",
    "        venue_details = requests.get(f\"https://api.foursquare.com/v2/venues/{poi_dict['fsq_id']}\", params={\n",
    "            'client_id': api_key.split(':')[0],\n",
    "            'client_secret': api_key.split(':')[1],\n",
    "            'v': '20230422'\n",
    "        }).json()\n",
    "\n",
    "        # Extract the venue ratings and reviews\n",
    "        poi_dict['rating'] = venue_details['response']['venue'].get('rating', None)\n",
    "        poi_dict['reviews'] = [review['text'] for review in venue_details['response']['venue'].get('tips', {}).get('groups', [])[0].get('items', [])]\n",
    "\n",
    "        # Extract the venue contact information\n",
    "        poi_dict['phone'] = venue_details['response']['venue'].get('contact', {}).get('phone', None)\n",
    "        poi_dict['website'] = venue_details['response']['venue'].get('url', None)\n",
    "        poi_dict['poi_type'] = [category['name'] for category in poi['venue']['categories']]\n",
    "        poi_dict['location_name'] = location_name\n",
    "\n",
    "        poi_list.append(poi_dict)\n",
    "    return poi_list\n"
   ]
  },
  {
   "cell_type": "code",
   "execution_count": 4,
   "metadata": {},
   "outputs": [
    {
     "name": "stderr",
     "output_type": "stream",
     "text": [
      "  0%|          | 0/3 [00:01<?, ?it/s]"
     ]
    },
    {
     "name": "stdout",
     "output_type": "stream",
     "text": [
      "{'results': [{'fsq_id': '4ac518bef964a520f0a220e3', 'categories': [{'id': 13018, 'name': 'Pub', 'icon': {'prefix': 'https://ss3.4sqi.net/img/categories_v2/nightlife/pub_', 'suffix': '.png'}}, {'id': 13142, 'name': 'English Restaurant', 'icon': {'prefix': 'https://ss3.4sqi.net/img/categories_v2/food/default_', 'suffix': '.png'}}], 'chains': [], 'distance': 32, 'geocodes': {'main': {'latitude': 51.496882, 'longitude': -0.192616}, 'roof': {'latitude': 51.496882, 'longitude': -0.192616}}, 'link': '/v3/places/4ac518bef964a520f0a220e3', 'location': {'address': '37 Marloes Rd', 'admin_region': 'England', 'country': 'GB', 'formatted_address': '37 Marloes Rd, London, Greater London, W8 6LA', 'locality': 'London', 'post_town': 'London', 'postcode': 'W8 6LA', 'region': 'Greater London'}, 'name': 'The Devonshire Arms', 'related_places': {}, 'timezone': 'Europe/London'}, {'fsq_id': '4cd6ae0adfb4a1cd4b48605c', 'categories': [{'id': 17068, 'name': 'Gourmet Store', 'icon': {'prefix': 'https://ss3.4sqi.net/img/categories_v2/shops/food_gourmet_', 'suffix': '.png'}}], 'chains': [], 'distance': 62, 'geocodes': {'main': {'latitude': 51.496591, 'longitude': -0.193068}, 'roof': {'latitude': 51.496591, 'longitude': -0.193068}}, 'link': '/v3/places/4cd6ae0adfb4a1cd4b48605c', 'location': {'address': '20 Stratford Rd', 'admin_region': 'England', 'country': 'GB', 'cross_street': '', 'formatted_address': '20 Stratford Rd, London, Greater London, W8 6QD', 'locality': 'London', 'post_town': 'London', 'postcode': 'W8 6QD', 'region': 'Greater London'}, 'name': 'La Piccola Dely', 'related_places': {}, 'timezone': 'Europe/London'}, {'fsq_id': '4b82cfe5f964a520a7e630e3', 'categories': [{'id': 17069, 'name': 'Grocery Store / Supermarket', 'icon': {'prefix': 'https://ss3.4sqi.net/img/categories_v2/shops/food_grocery_', 'suffix': '.png'}}], 'chains': [{'id': '2fca29d0-9c63-0132-6632-3c15c2dde6c8', 'name': \"Sainsbury's\"}], 'distance': 310, 'geocodes': {'main': {'latitude': 51.495069, 'longitude': -0.188589}, 'roof': {'latitude': 51.495069, 'longitude': -0.188589}}, 'link': '/v3/places/4b82cfe5f964a520a7e630e3', 'location': {'address': '158A Cromwell Rd', 'admin_region': 'England', 'country': 'GB', 'formatted_address': '158A Cromwell Rd, London, Greater London, SW7 4EJ', 'locality': 'London', 'post_town': 'London', 'postcode': 'SW7 4EJ', 'region': 'Greater London'}, 'name': \"Sainsbury's\", 'related_places': {'children': [{'fsq_id': '597f0f415d891b0521a42d8c', 'name': 'LloydsPharmacy'}, {'fsq_id': '5aad83d54940bc48fef8f240', 'name': 'Argos'}]}, 'timezone': 'Europe/London'}, {'fsq_id': '528125cf11d242394bbf433e', 'categories': [{'id': 13236, 'name': 'Italian Restaurant', 'icon': {'prefix': 'https://ss3.4sqi.net/img/categories_v2/food/italian_', 'suffix': '.png'}}], 'chains': [], 'distance': 241, 'geocodes': {'drop_off': {'latitude': 51.49472, 'longitude': -0.189982}, 'main': {'latitude': 51.494895, 'longitude': -0.189976}, 'roof': {'latitude': 51.494895, 'longitude': -0.189976}}, 'link': '/v3/places/528125cf11d242394bbf433e', 'location': {'address': '160 Cromwell Rd', 'admin_region': 'England', 'country': 'GB', 'cross_street': '', 'formatted_address': '160 Cromwell Rd, London, Greater London, SW5 0TL', 'locality': 'London', 'post_town': 'London', 'postcode': 'SW5 0TL', 'region': 'Greater London'}, 'name': 'Evoluzione', 'related_places': {}, 'timezone': 'Europe/London'}, {'fsq_id': '4ae760f0f964a520caaa21e3', 'categories': [{'id': 13018, 'name': 'Pub', 'icon': {'prefix': 'https://ss3.4sqi.net/img/categories_v2/nightlife/pub_', 'suffix': '.png'}}, {'id': 13057, 'name': 'Gastropub', 'icon': {'prefix': 'https://ss3.4sqi.net/img/categories_v2/food/gastropub_', 'suffix': '.png'}}, {'id': 13077, 'name': 'Belgian Restaurant', 'icon': {'prefix': 'https://ss3.4sqi.net/img/categories_v2/food/default_', 'suffix': '.png'}}], 'chains': [], 'distance': 338, 'geocodes': {'main': {'latitude': 51.493372, 'longitude': -0.192456}, 'roof': {'latitude': 51.493372, 'longitude': -0.192456}}, 'link': '/v3/places/4ae760f0f964a520caaa21e3', 'location': {'address': '17 Hogarth Pl', 'admin_region': 'England', 'country': 'GB', 'cross_street': '', 'formatted_address': '17 Hogarth Pl, Earls Court, Greater London, SW5 0QT', 'locality': 'London', 'post_town': 'London', 'postcode': 'SW5 0QT', 'region': 'Greater London'}, 'name': 'The Kings Head', 'related_places': {}, 'timezone': 'Europe/London'}, {'fsq_id': '4fc4dec6e4b0ff36cf6971d4', 'categories': [{'id': 13002, 'name': 'Bakery', 'icon': {'prefix': 'https://ss3.4sqi.net/img/categories_v2/food/bakery_', 'suffix': '.png'}}, {'id': 13298, 'name': 'Lebanese Restaurant', 'icon': {'prefix': 'https://ss3.4sqi.net/img/categories_v2/food/middleeastern_', 'suffix': '.png'}}, {'id': 13309, 'name': 'Middle Eastern Restaurant', 'icon': {'prefix': 'https://ss3.4sqi.net/img/categories_v2/food/middleeastern_', 'suffix': '.png'}}], 'chains': [], 'distance': 371, 'geocodes': {'main': {'latitude': 51.493442, 'longitude': -0.194428}, 'roof': {'latitude': 51.493442, 'longitude': -0.194428}}, 'link': '/v3/places/4fc4dec6e4b0ff36cf6971d4', 'location': {'address': '131 Earls Ct Rd', 'admin_region': 'England', 'country': 'GB', 'cross_street': '', 'formatted_address': '131 Earls Ct Rd, Earls Court, Greater London, SW5 9RQ', 'locality': 'London', 'post_town': 'London', 'postcode': 'SW5 9RQ', 'region': 'Greater London'}, 'name': 'Maroush Bakehouse Earls Court', 'related_places': {}, 'timezone': 'Europe/London'}, {'fsq_id': '4f5cbe10e4b02415433ccd12', 'categories': [{'id': 13002, 'name': 'Bakery', 'icon': {'prefix': 'https://ss3.4sqi.net/img/categories_v2/food/bakery_', 'suffix': '.png'}}, {'id': 13034, 'name': 'Café', 'icon': {'prefix': 'https://ss3.4sqi.net/img/categories_v2/food/cafe_', 'suffix': '.png'}}, {'id': 13035, 'name': 'Coffee Shop', 'icon': {'prefix': 'https://ss3.4sqi.net/img/categories_v2/food/coffeeshop_', 'suffix': '.png'}}], 'chains': [], 'distance': 391, 'geocodes': {'main': {'latitude': 51.497714, 'longitude': -0.197973}, 'roof': {'latitude': 51.497714, 'longitude': -0.197973}}, 'link': '/v3/places/4f5cbe10e4b02415433ccd12', 'location': {'address': '56 Earls Ct Rd', 'address_extended': 'Flat 2', 'admin_region': 'England', 'country': 'GB', 'cross_street': '', 'formatted_address': '56 Earls Ct Rd, Kensington, Greater London, W8 6EJ', 'locality': 'Kensington', 'post_town': 'London', 'postcode': 'W8 6EJ', 'region': 'Greater London'}, 'name': 'Le Monde', 'related_places': {}, 'timezone': 'Europe/London'}, {'fsq_id': '507322bce4b05a5a7b06b328', 'categories': [{'id': 13064, 'name': 'Pizzeria', 'icon': {'prefix': 'https://ss3.4sqi.net/img/categories_v2/food/pizza_', 'suffix': '.png'}}], 'chains': [], 'distance': 357, 'geocodes': {'main': {'latitude': 51.493578, 'longitude': -0.194986}, 'roof': {'latitude': 51.493578, 'longitude': -0.194986}}, 'link': '/v3/places/507322bce4b05a5a7b06b328', 'location': {'address': '174 Earls Ct Rd', 'admin_region': 'England', 'country': 'GB', 'cross_street': '', 'formatted_address': '174 Earls Ct Rd, London, SW5 9QQ', 'locality': 'London', 'post_town': 'London', 'postcode': 'SW5 9QQ'}, 'name': \"Giorgio's Pizzeria\", 'related_places': {}, 'timezone': 'Europe/London'}, {'fsq_id': '4c391fd1a52cb71364885f26', 'categories': [{'id': 13145, 'name': 'Fast Food Restaurant', 'icon': {'prefix': 'https://ss3.4sqi.net/img/categories_v2/food/fastfood_', 'suffix': '.png'}}], 'chains': [], 'distance': 367, 'geocodes': {'main': {'latitude': 51.493578, 'longitude': -0.194986}, 'roof': {'latitude': 51.493578, 'longitude': -0.194986}}, 'link': '/v3/places/4c391fd1a52cb71364885f26', 'location': {'address': '178 Earls Ct Rd', 'admin_region': 'England', 'country': 'GB', 'cross_street': 'Nevern Pl', 'formatted_address': '178 Earls Ct Rd (Nevern Pl), London, Greater London, SW5 9QQ', 'locality': 'London', 'post_town': 'London', 'postcode': 'SW5 9QQ', 'region': 'Greater London'}, 'name': 'Star Kebab House', 'related_places': {}, 'timezone': 'Europe/London'}, {'fsq_id': '4b93fdb2f964a5208c5f34e3', 'categories': [{'id': 11069, 'name': 'Laundry Service', 'icon': {'prefix': 'https://ss3.4sqi.net/img/categories_v2/shops/laundry_', 'suffix': '.png'}}], 'chains': [], 'distance': 139, 'geocodes': {'main': {'latitude': 51.495712, 'longitude': -0.191037}, 'roof': {'latitude': 51.495712, 'longitude': -0.191037}}, 'link': '/v3/places/4b93fdb2f964a5208c5f34e3', 'location': {'admin_region': 'England', 'country': 'GB', 'cross_street': '', 'formatted_address': 'Kensington, Greater London', 'locality': 'Kensington', 'region': 'Greater London'}, 'name': \"Bobo's Bubbles Laundry\", 'related_places': {}, 'timezone': 'Europe/London'}], 'context': {'geo_bounds': {'circle': {'center': {'latitude': 51.496481, 'longitude': -0.192404}, 'radius': 1000}}}}\n"
     ]
    },
    {
     "name": "stderr",
     "output_type": "stream",
     "text": [
      "\n"
     ]
    },
    {
     "ename": "KeyError",
     "evalue": "'response'",
     "output_type": "error",
     "traceback": [
      "\u001b[0;31m---------------------------------------------------------------------------\u001b[0m",
      "\u001b[0;31mKeyError\u001b[0m                                  Traceback (most recent call last)",
      "Cell \u001b[0;32mIn[4], line 17\u001b[0m\n\u001b[1;32m     15\u001b[0m result \u001b[39m=\u001b[39m foursquare_query(row[\u001b[39m'\u001b[39m\u001b[39mlatitude\u001b[39m\u001b[39m'\u001b[39m], row[\u001b[39m'\u001b[39m\u001b[39mlongitude\u001b[39m\u001b[39m'\u001b[39m], row[\u001b[39m'\u001b[39m\u001b[39mname\u001b[39m\u001b[39m'\u001b[39m])\n\u001b[1;32m     16\u001b[0m \u001b[39mprint\u001b[39m(result)\n\u001b[0;32m---> 17\u001b[0m \u001b[39mfor\u001b[39;00m venue \u001b[39min\u001b[39;00m result[\u001b[39m'\u001b[39;49m\u001b[39mresponse\u001b[39;49m\u001b[39m'\u001b[39;49m][\u001b[39m'\u001b[39m\u001b[39mvenues\u001b[39m\u001b[39m'\u001b[39m]:\n\u001b[1;32m     18\u001b[0m     \u001b[39m# Retrieve additional information for the venue using the venue ID\u001b[39;00m\n\u001b[1;32m     19\u001b[0m     venue_id \u001b[39m=\u001b[39m venue[\u001b[39m'\u001b[39m\u001b[39mid\u001b[39m\u001b[39m'\u001b[39m]\n\u001b[1;32m     20\u001b[0m     data_list\u001b[39m.\u001b[39mappend(venue_details)\n",
      "\u001b[0;31mKeyError\u001b[0m: 'response'"
     ]
    }
   ],
   "source": [
    "# read the file containing the locations\n",
    "venue_df = pd.read_csv('/Users/brittanyharding/LHL-Projects/Statistical-Modelling-with-Python/notebooks/London_CityBikes_Data.csv')\n",
    "\n",
    "rand_df = venue_df.sample(n=3)\n",
    "\n",
    "# extract the name, latitude, and longitude columns from the City Bike Data\n",
    "names = rand_df['name'].unique()\n",
    "latitudes = rand_df['latitude'].unique()\n",
    "longitudes = rand_df['longitude'].unique()\n",
    "\n",
    "# Initialize an empty list to store the dictionaries\n",
    "data_list = []\n",
    "\n",
    "for _, row in tqdm(rand_df.iterrows(), total=rand_df.shape[0]):\n",
    "    result = foursquare_query(row['latitude'], row['longitude'], row['name'])\n",
    "    print(result)\n",
    "    for venue in result['response']['venues']:\n",
    "        # Retrieve additional information for the venue using the venue ID\n",
    "        venue_id = venue['id']\n",
    "        data_list.append(venue_details)"
   ]
  },
  {
   "cell_type": "code",
   "execution_count": null,
   "metadata": {},
   "outputs": [],
   "source": []
  }
 ],
 "metadata": {
  "kernelspec": {
   "display_name": "Python 3",
   "language": "python",
   "name": "python3"
  },
  "language_info": {
   "codemirror_mode": {
    "name": "ipython",
    "version": 3
   },
   "file_extension": ".py",
   "mimetype": "text/x-python",
   "name": "python",
   "nbconvert_exporter": "python",
   "pygments_lexer": "ipython3",
   "version": "3.11.1"
  },
  "orig_nbformat": 4
 },
 "nbformat": 4,
 "nbformat_minor": 2
}
